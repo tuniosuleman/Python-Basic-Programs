{
  "nbformat": 4,
  "nbformat_minor": 0,
  "metadata": {
    "colab": {
      "name": "python_basics.ipynb",
      "provenance": [],
      "collapsed_sections": []
    },
    "kernelspec": {
      "name": "python3",
      "display_name": "Python 3"
    },
    "language_info": {
      "name": "python"
    }
  },
  "cells": [
    {
      "cell_type": "code",
      "metadata": {
        "colab": {
          "base_uri": "https://localhost:8080/"
        },
        "id": "B4a3lZDAPz8E",
        "outputId": "6f6e9279-0a59-448c-a5fb-0d934a57951f"
      },
      "source": [
        "print('practice python basic programs ')"
      ],
      "execution_count": 42,
      "outputs": [
        {
          "output_type": "stream",
          "text": [
            "practice python basic programs \n"
          ],
          "name": "stdout"
        }
      ]
    },
    {
      "cell_type": "code",
      "metadata": {
        "colab": {
          "base_uri": "https://localhost:8080/"
        },
        "id": "BizkDiq5QCUL",
        "outputId": "75e0cc39-ec15-4b71-f71d-158458fb35c7"
      },
      "source": [
        "#practice  questions:\n",
        "\n",
        "a= [1, 2, 3, 4, 5, 6, 7]\n",
        "for i in range(0, 7):\n",
        "  print(a[i])"
      ],
      "execution_count": 43,
      "outputs": [
        {
          "output_type": "stream",
          "text": [
            "1\n",
            "2\n",
            "3\n",
            "4\n",
            "5\n",
            "6\n",
            "7\n"
          ],
          "name": "stdout"
        }
      ]
    },
    {
      "cell_type": "code",
      "metadata": {
        "colab": {
          "base_uri": "https://localhost:8080/"
        },
        "id": "UCAbLwh1QuRu",
        "outputId": "b3d07bfb-b0bf-4b54-cbd3-c8d6e8e072a3"
      },
      "source": [
        "a= [1, 2, 3, 4, 5, 6, 7]\n",
        "for i in range(0, 7):\n",
        "  print(a[i], end = '\\n')"
      ],
      "execution_count": 44,
      "outputs": [
        {
          "output_type": "stream",
          "text": [
            "1\n",
            "2\n",
            "3\n",
            "4\n",
            "5\n",
            "6\n",
            "7\n"
          ],
          "name": "stdout"
        }
      ]
    },
    {
      "cell_type": "code",
      "metadata": {
        "colab": {
          "base_uri": "https://localhost:8080/"
        },
        "id": "_1FpxHTDQ0F_",
        "outputId": "00c0025b-6734-470b-9e72-662ac86c455a"
      },
      "source": [
        "a= [1, 2, 3, 4, 5, 6, 7]\n",
        "for i in range(0, 7):\n",
        "  print(a[i], end = ' ') # modifying output, putting it in one row"
      ],
      "execution_count": 45,
      "outputs": [
        {
          "output_type": "stream",
          "text": [
            "1 2 3 4 5 6 7 "
          ],
          "name": "stdout"
        }
      ]
    },
    {
      "cell_type": "code",
      "metadata": {
        "colab": {
          "base_uri": "https://localhost:8080/"
        },
        "id": "64bb_l-KRF6n",
        "outputId": "8332f9c3-0a27-4f71-ac04-81539455def6"
      },
      "source": [
        "print(a[0])"
      ],
      "execution_count": 46,
      "outputs": [
        {
          "output_type": "stream",
          "text": [
            "1\n"
          ],
          "name": "stdout"
        }
      ]
    },
    {
      "cell_type": "code",
      "metadata": {
        "id": "3T6lAFz2RQjm"
      },
      "source": [
        "a[5] ='BB'"
      ],
      "execution_count": 47,
      "outputs": []
    },
    {
      "cell_type": "code",
      "metadata": {
        "colab": {
          "base_uri": "https://localhost:8080/"
        },
        "id": "k1NIpq3BRVTL",
        "outputId": "ab72852f-7ee4-46d2-e2ed-1e3dc73bd926"
      },
      "source": [
        "a"
      ],
      "execution_count": 49,
      "outputs": [
        {
          "output_type": "execute_result",
          "data": {
            "text/plain": [
              "[1, 2, 3, 4, 5, 'BB', 7]"
            ]
          },
          "metadata": {
            "tags": []
          },
          "execution_count": 49
        }
      ]
    },
    {
      "cell_type": "code",
      "metadata": {
        "id": "JI_STATlRXrJ"
      },
      "source": [
        "a[0] = [1, 2, 3, 4, 5] # assiging nested list"
      ],
      "execution_count": 50,
      "outputs": []
    },
    {
      "cell_type": "code",
      "metadata": {
        "colab": {
          "base_uri": "https://localhost:8080/"
        },
        "id": "At0njyQnRerR",
        "outputId": "7eb84b96-cf48-498a-c0d4-a98aad3c1d53"
      },
      "source": [
        "a"
      ],
      "execution_count": 51,
      "outputs": [
        {
          "output_type": "execute_result",
          "data": {
            "text/plain": [
              "[[1, 2, 3, 4, 5], 2, 3, 4, 5, 'BB', 7]"
            ]
          },
          "metadata": {
            "tags": []
          },
          "execution_count": 51
        }
      ]
    },
    {
      "cell_type": "code",
      "metadata": {
        "colab": {
          "base_uri": "https://localhost:8080/"
        },
        "id": "K4EeYi13RfVW",
        "outputId": "25bb1607-d2c0-4915-b3a1-41d90a7df190"
      },
      "source": [
        "for i in range(0, 7):\n",
        "  print(a[i], end = ' ')"
      ],
      "execution_count": 52,
      "outputs": [
        {
          "output_type": "stream",
          "text": [
            "[1, 2, 3, 4, 5] 2 3 4 5 BB 7 "
          ],
          "name": "stdout"
        }
      ]
    },
    {
      "cell_type": "code",
      "metadata": {
        "colab": {
          "base_uri": "https://localhost:8080/"
        },
        "id": "g-VLIPp-RjhV",
        "outputId": "74804d93-7c2d-46b6-a96e-8b1b24077540"
      },
      "source": [
        "a[1]"
      ],
      "execution_count": 53,
      "outputs": [
        {
          "output_type": "execute_result",
          "data": {
            "text/plain": [
              "2"
            ]
          },
          "metadata": {
            "tags": []
          },
          "execution_count": 53
        }
      ]
    },
    {
      "cell_type": "code",
      "metadata": {
        "id": "ONHeDpaiRpLj"
      },
      "source": [
        "x =range(0, 6)"
      ],
      "execution_count": 54,
      "outputs": []
    },
    {
      "cell_type": "code",
      "metadata": {
        "colab": {
          "base_uri": "https://localhost:8080/"
        },
        "id": "0lNpBkMMR5a5",
        "outputId": "00081e43-8784-4f2a-dd98-2251dc81dfa9"
      },
      "source": [
        "x"
      ],
      "execution_count": 55,
      "outputs": [
        {
          "output_type": "execute_result",
          "data": {
            "text/plain": [
              "range(0, 6)"
            ]
          },
          "metadata": {
            "tags": []
          },
          "execution_count": 55
        }
      ]
    },
    {
      "cell_type": "code",
      "metadata": {
        "colab": {
          "base_uri": "https://localhost:8080/"
        },
        "id": "rTqmnCaCR8Hn",
        "outputId": "6718ee94-6336-4eea-8564-e8969da979ae"
      },
      "source": [
        "print(x)"
      ],
      "execution_count": 56,
      "outputs": [
        {
          "output_type": "stream",
          "text": [
            "range(0, 6)\n"
          ],
          "name": "stdout"
        }
      ]
    },
    {
      "cell_type": "code",
      "metadata": {
        "colab": {
          "base_uri": "https://localhost:8080/"
        },
        "id": "wwXm0LnBSDbh",
        "outputId": "eb4a64b0-1e25-4432-d7af-e141ab6024d6"
      },
      "source": [
        "range(6)"
      ],
      "execution_count": 57,
      "outputs": [
        {
          "output_type": "execute_result",
          "data": {
            "text/plain": [
              "range(0, 6)"
            ]
          },
          "metadata": {
            "tags": []
          },
          "execution_count": 57
        }
      ]
    },
    {
      "cell_type": "code",
      "metadata": {
        "colab": {
          "base_uri": "https://localhost:8080/"
        },
        "id": "Sw6r5_9KSE5d",
        "outputId": "2fd5b6f4-50cf-4c0b-f4e7-4c88d4bddc9e"
      },
      "source": [
        "len(a)"
      ],
      "execution_count": 58,
      "outputs": [
        {
          "output_type": "execute_result",
          "data": {
            "text/plain": [
              "7"
            ]
          },
          "metadata": {
            "tags": []
          },
          "execution_count": 58
        }
      ]
    },
    {
      "cell_type": "code",
      "metadata": {
        "colab": {
          "base_uri": "https://localhost:8080/"
        },
        "id": "PgWHuvPMT0yV",
        "outputId": "8d51a577-8e9a-4e80-f744-a875afa8ec7d"
      },
      "source": [
        "a"
      ],
      "execution_count": 59,
      "outputs": [
        {
          "output_type": "execute_result",
          "data": {
            "text/plain": [
              "[[1, 2, 3, 4, 5], 2, 3, 4, 5, 'BB', 7]"
            ]
          },
          "metadata": {
            "tags": []
          },
          "execution_count": 59
        }
      ]
    },
    {
      "cell_type": "code",
      "metadata": {
        "colab": {
          "base_uri": "https://localhost:8080/"
        },
        "id": "Pt91Hw-cUDB5",
        "outputId": "e4951b5b-eeb1-4fc9-ef1b-179048da1f17"
      },
      "source": [
        "y = [2, 6, 9, 'abc', 5, 'xyz']\n",
        "\n",
        "for i in range(len(y)):\n",
        "  print(y[i], end =' ')"
      ],
      "execution_count": 60,
      "outputs": [
        {
          "output_type": "stream",
          "text": [
            "2 6 9 abc 5 xyz "
          ],
          "name": "stdout"
        }
      ]
    },
    {
      "cell_type": "code",
      "metadata": {
        "colab": {
          "base_uri": "https://localhost:8080/"
        },
        "id": "62nf93s7UTO4",
        "outputId": "dec46b33-1d59-4520-84d6-dc87d7169f9e"
      },
      "source": [
        "y.reverse()\n",
        "y"
      ],
      "execution_count": 62,
      "outputs": [
        {
          "output_type": "execute_result",
          "data": {
            "text/plain": [
              "['xyz', 5, 'abc', 9, 6, 2]"
            ]
          },
          "metadata": {
            "tags": []
          },
          "execution_count": 62
        }
      ]
    },
    {
      "cell_type": "code",
      "metadata": {
        "id": "BEQdqQqNVnU-"
      },
      "source": [
        "x = ['xyz', 5, 'abc', 9, 6, 2, 'suleman']\n"
      ],
      "execution_count": 63,
      "outputs": []
    },
    {
      "cell_type": "code",
      "metadata": {
        "id": "Lcbu7Mn6VvyR"
      },
      "source": [
        "x.reverse()"
      ],
      "execution_count": 64,
      "outputs": []
    },
    {
      "cell_type": "code",
      "metadata": {
        "colab": {
          "base_uri": "https://localhost:8080/"
        },
        "id": "hidMSbkoVzwx",
        "outputId": "05e8535c-a56f-48ed-dfe1-443e8da628c2"
      },
      "source": [
        "x"
      ],
      "execution_count": 65,
      "outputs": [
        {
          "output_type": "execute_result",
          "data": {
            "text/plain": [
              "['suleman', 2, 6, 9, 'abc', 5, 'xyz']"
            ]
          },
          "metadata": {
            "tags": []
          },
          "execution_count": 65
        }
      ]
    },
    {
      "cell_type": "code",
      "metadata": {
        "colab": {
          "base_uri": "https://localhost:8080/"
        },
        "id": "kPsbv-GSV0xp",
        "outputId": "db6f1078-30d1-4a13-d695-38b6d301b605"
      },
      "source": [
        "x= ['suleman', 2, 6, 9, 'abc', 5, 'xyz']\n",
        "for i in range(-1, -8, -1):\n",
        "  print(x[i], end = ' ')"
      ],
      "execution_count": 66,
      "outputs": [
        {
          "output_type": "stream",
          "text": [
            "xyz 5 abc 9 6 2 suleman "
          ],
          "name": "stdout"
        }
      ]
    },
    {
      "cell_type": "code",
      "metadata": {
        "colab": {
          "base_uri": "https://localhost:8080/"
        },
        "id": "82VGd0V5WLGu",
        "outputId": "0cfd827d-6698-43a6-dc1a-e737815b3219"
      },
      "source": [
        "x= ['suleman', 2, 6, 9, 'abc', 5, 'xyz']\n",
        "for i in range(len(x)):\n",
        "  print(x[i], end = ' ')"
      ],
      "execution_count": 67,
      "outputs": [
        {
          "output_type": "stream",
          "text": [
            "suleman 2 6 9 abc 5 xyz "
          ],
          "name": "stdout"
        }
      ]
    },
    {
      "cell_type": "code",
      "metadata": {
        "id": "Muh-kk1TWqf4"
      },
      "source": [
        "x= ['suleman', 2, 6, 9, 'abc', 5, 'xyz']\n",
        "for i in range(-7, -1, -1):\n",
        "  print(x[i], end = ' ')"
      ],
      "execution_count": 68,
      "outputs": []
    },
    {
      "cell_type": "code",
      "metadata": {
        "colab": {
          "base_uri": "https://localhost:8080/"
        },
        "id": "wwcuQy1dW4iK",
        "outputId": "97a65075-e75c-4be7-bcf0-9fa542abb502"
      },
      "source": [
        "x= ['suleman', 2, 6, 9, 'abc', 5, 'xyz']\n",
        "for i in range(6, -1, -1):\n",
        "  print(x[i], end = ' ')"
      ],
      "execution_count": 69,
      "outputs": [
        {
          "output_type": "stream",
          "text": [
            "xyz 5 abc 9 6 2 suleman "
          ],
          "name": "stdout"
        }
      ]
    },
    {
      "cell_type": "code",
      "metadata": {
        "colab": {
          "base_uri": "https://localhost:8080/"
        },
        "id": "C5qmviEEXc7f",
        "outputId": "d97b67f6-2728-47f4-9271-be65c91da027"
      },
      "source": [
        "x= ['suleman', 2, 6, 9, 'abc', 5, 'xyz']\n",
        "for i in range(-1, -2, -1):\n",
        "  print(x[i], end = ' ')"
      ],
      "execution_count": 70,
      "outputs": [
        {
          "output_type": "stream",
          "text": [
            "xyz "
          ],
          "name": "stdout"
        }
      ]
    },
    {
      "cell_type": "markdown",
      "metadata": {
        "id": "3XrYJ6SPZBqu"
      },
      "source": [
        "# write a python code for finding min, max using list"
      ]
    },
    {
      "cell_type": "code",
      "metadata": {
        "colab": {
          "base_uri": "https://localhost:8080/"
        },
        "id": "gIXc2gmBX49g",
        "outputId": "eee01143-0e94-48f8-e4fb-d037766f7e5e"
      },
      "source": [
        "# Finding minimum numbers from the list...\n",
        "a = [6, 8, 5, 9, 11]\n",
        "minIndex = 0\n",
        "\n",
        "for i in range(len(a)):\n",
        "  if a[minIndex] > a[i]:\n",
        "    minIndex = i\n",
        "\n",
        "print(a[minIndex])\n",
        "\n",
        "\n",
        "# Finding maximum numbers from the list...\n",
        "a = [6, 8, 5, 9, 11]\n",
        "maxIndex = 0\n",
        "\n",
        "for i in range(len(a)):\n",
        "  if a[maxIndex] < a[i]:\n",
        "    maxIndex = i\n",
        "\n",
        "print(a[maxIndex])"
      ],
      "execution_count": 71,
      "outputs": [
        {
          "output_type": "stream",
          "text": [
            "5\n",
            "11\n"
          ],
          "name": "stdout"
        }
      ]
    },
    {
      "cell_type": "markdown",
      "metadata": {
        "id": "RFzFRIu5ePHf"
      },
      "source": [
        "# Generating random numbers..."
      ]
    },
    {
      "cell_type": "code",
      "metadata": {
        "colab": {
          "base_uri": "https://localhost:8080/"
        },
        "id": "khM6C1zRazml",
        "outputId": "038070fd-95cc-49ef-a848-bb229ac6b829"
      },
      "source": [
        "import random\n",
        "random_list = []\n",
        "random.seed(0) # it will generate same random numbers every time...\n",
        "\n",
        "for i in range(10):\n",
        "  n = random.randint(1, 100)\n",
        "  random_list.append(n)\n",
        "\n",
        "print(random_list)"
      ],
      "execution_count": 75,
      "outputs": [
        {
          "output_type": "stream",
          "text": [
            "[50, 98, 54, 6, 34, 66, 63, 52, 39, 62]\n"
          ],
          "name": "stdout"
        }
      ]
    },
    {
      "cell_type": "code",
      "metadata": {
        "colab": {
          "base_uri": "https://localhost:8080/"
        },
        "id": "6Jd-30-KeqaI",
        "outputId": "8b4ff24e-b9d1-4538-878e-66b7ef0bbf6d"
      },
      "source": [
        "import random\n",
        "list_g =[]\n",
        "# random.seed(0)\n",
        "for i in range(20):\n",
        "  rand = random.randint(1, 1000)\n",
        "  list_g.append(rand)\n",
        "\n",
        "print(list_g)"
      ],
      "execution_count": 76,
      "outputs": [
        {
          "output_type": "stream",
          "text": [
            "[367, 598, 914, 930, 224, 517, 143, 289, 144, 774, 98, 634, 819, 257, 932, 546, 723, 830, 617, 924]\n"
          ],
          "name": "stdout"
        }
      ]
    },
    {
      "cell_type": "markdown",
      "metadata": {
        "id": "ZJ16SvYmi7Lo"
      },
      "source": [
        "# Sorting algorithm\n",
        " 01 Bubble sort, \n",
        " 02 Selection Sort, \n",
        " 03 Insertion Sort, \n",
        " 04 Merge Sort, \n",
        " 05 Quick Sort."
      ]
    },
    {
      "cell_type": "code",
      "metadata": {
        "colab": {
          "base_uri": "https://localhost:8080/"
        },
        "id": "v30MCcEahibt",
        "outputId": "49223cf9-7436-47f5-f8b9-78b32075cac3"
      },
      "source": [
        "# Bubble Sort...\n",
        "# ascending order of numbers\n",
        "\n",
        "import random \n",
        "random.seed(0)\n",
        "x = []\n",
        "\n",
        "for k in range(20):\n",
        "  x.append(random.randint(1, 100))\n",
        "print(x)\n",
        "\n",
        "for i in range(len(x)-1):\n",
        "  for j in range(len(x)-1):\n",
        "    if x[j] > x[j+1]:\n",
        "      temp = x[j]\n",
        "      x[j] = x[j+1]\n",
        "      x[j+1] = temp\n",
        "print(x)"
      ],
      "execution_count": 77,
      "outputs": [
        {
          "output_type": "stream",
          "text": [
            "[50, 98, 54, 6, 34, 66, 63, 52, 39, 62, 46, 75, 28, 65, 18, 37, 18, 97, 13, 80]\n",
            "[6, 13, 18, 18, 28, 34, 37, 39, 46, 50, 52, 54, 62, 63, 65, 66, 75, 80, 97, 98]\n"
          ],
          "name": "stdout"
        }
      ]
    },
    {
      "cell_type": "code",
      "metadata": {
        "colab": {
          "base_uri": "https://localhost:8080/"
        },
        "id": "Ek-UgI3JnKxq",
        "outputId": "63d056e6-492e-4a72-c40f-935e76c6d949"
      },
      "source": [
        "# Bubble Sort...\n",
        "# Descending order of numbers\n",
        "\n",
        "import random \n",
        "random.seed(0)\n",
        "x = []\n",
        "\n",
        "for k in range(20):\n",
        "  x.append(random.randint(1, 100))\n",
        "print(x)\n",
        "\n",
        "for i in range(len(x)-1):\n",
        "  for j in range(len(x)-1):\n",
        "    if x[j] < x[j+1]:\n",
        "      temp = x[j]\n",
        "      x[j] = x[j+1]\n",
        "      x[j+1] = temp\n",
        "print(x)"
      ],
      "execution_count": 78,
      "outputs": [
        {
          "output_type": "stream",
          "text": [
            "[50, 98, 54, 6, 34, 66, 63, 52, 39, 62, 46, 75, 28, 65, 18, 37, 18, 97, 13, 80]\n",
            "[98, 97, 80, 75, 66, 65, 63, 62, 54, 52, 50, 46, 39, 37, 34, 28, 18, 18, 13, 6]\n"
          ],
          "name": "stdout"
        }
      ]
    },
    {
      "cell_type": "markdown",
      "metadata": {
        "id": "jWQwp9LYrEbM"
      },
      "source": [
        "# Numpy Array Sort (Selection)"
      ]
    },
    {
      "cell_type": "code",
      "metadata": {
        "colab": {
          "base_uri": "https://localhost:8080/"
        },
        "id": "WtekU-MZpv8-",
        "outputId": "14ffe83e-2641-4c93-8457-4a6ee2d3bbcf"
      },
      "source": [
        "# selection Sort...\n",
        "# Descending order of numbers\n",
        "\n",
        "import random \n",
        "random.seed(0)\n",
        "x = []\n",
        "\n",
        "for k in range(20):\n",
        "  x.append(random.randint(1, 100))\n",
        "print(x)\n",
        "\n",
        "\n",
        "for i in range(len(x)):\n",
        "  minIndex =i\n",
        "  for j in range(i+1,len(x)):\n",
        "    if x[j] < x[minIndex]:\n",
        "      minIndex =i\n",
        "      temp = x[j]\n",
        "      x[j] = x[minIndex]\n",
        "      x[minIndex] = temp\n",
        "print(x)"
      ],
      "execution_count": 79,
      "outputs": [
        {
          "output_type": "stream",
          "text": [
            "[50, 98, 54, 6, 34, 66, 63, 52, 39, 62, 46, 75, 28, 65, 18, 37, 18, 97, 13, 80]\n",
            "[6, 13, 18, 18, 28, 34, 37, 39, 46, 50, 52, 54, 62, 63, 65, 66, 75, 80, 97, 98]\n"
          ],
          "name": "stdout"
        }
      ]
    },
    {
      "cell_type": "code",
      "metadata": {
        "colab": {
          "base_uri": "https://localhost:8080/"
        },
        "id": "CZnNPFOIsPdA",
        "outputId": "dd5bf160-3df4-4e7e-e44b-8f57c0216382"
      },
      "source": [
        "# selection Sort using functions\n",
        "# Descending order of numbers\n",
        "\n",
        "import random \n",
        "random.seed(0)\n",
        "x = []\n",
        "\n",
        "for k in range(20):\n",
        "  x.append(random.randint(1, 100))\n",
        "print(x)\n",
        "\n",
        "def ascend_f(x):\n",
        "  for j in range(0, len(x)):\n",
        "    minIndex =j\n",
        "    for i in range(j+1, len(x)):\n",
        "      if x[i] < x[minIndex]:\n",
        "        minIndex =j\n",
        "        temp = x[i]\n",
        "        x[i] = x[minIndex]\n",
        "        x[minIndex] = temp\n",
        "  print(x)  \n",
        "\n",
        "ascend_f(x)"
      ],
      "execution_count": 80,
      "outputs": [
        {
          "output_type": "stream",
          "text": [
            "[50, 98, 54, 6, 34, 66, 63, 52, 39, 62, 46, 75, 28, 65, 18, 37, 18, 97, 13, 80]\n",
            "[6, 13, 18, 18, 28, 34, 37, 39, 46, 50, 52, 54, 62, 63, 65, 66, 75, 80, 97, 98]\n"
          ],
          "name": "stdout"
        }
      ]
    },
    {
      "cell_type": "code",
      "metadata": {
        "colab": {
          "base_uri": "https://localhost:8080/"
        },
        "id": "sT16oXSMu7rA",
        "outputId": "ccda03f9-c081-474c-e5c9-69538b1c8b82"
      },
      "source": [
        "for i in range(5):\n",
        "  for j in range(3):\n",
        "    print(' IBA ', end ='')"
      ],
      "execution_count": 81,
      "outputs": [
        {
          "output_type": "stream",
          "text": [
            " IBA  IBA  IBA  IBA  IBA  IBA  IBA  IBA  IBA  IBA  IBA  IBA  IBA  IBA  IBA "
          ],
          "name": "stdout"
        }
      ]
    },
    {
      "cell_type": "code",
      "metadata": {
        "colab": {
          "base_uri": "https://localhost:8080/",
          "height": 35
        },
        "id": "KD_xocCdwReT",
        "outputId": "2b820243-aedc-4539-b7b6-3003c11c3a83"
      },
      "source": [
        "#you cannot directly assgin values to list,\n",
        "#you first need to create empy list first.\n",
        "x = []\n",
        "\n",
        "x.append('pakistan')  # but not  x[0] = 'pakistan,      it will give you error\n",
        "                      # But this can happend in dictionary \n",
        "x[0]"
      ],
      "execution_count": 82,
      "outputs": [
        {
          "output_type": "execute_result",
          "data": {
            "application/vnd.google.colaboratory.intrinsic+json": {
              "type": "string"
            },
            "text/plain": [
              "'pakistan'"
            ]
          },
          "metadata": {
            "tags": []
          },
          "execution_count": 82
        }
      ]
    },
    {
      "cell_type": "code",
      "metadata": {
        "colab": {
          "base_uri": "https://localhost:8080/"
        },
        "id": "qaCYPT1tyDbU",
        "outputId": "a701cf11-ebf1-44bb-fa9d-32168ec5efcc"
      },
      "source": [
        "#y ={}\n",
        "y[0] = 'Pakistan'\n",
        "\n",
        "y"
      ],
      "execution_count": 83,
      "outputs": [
        {
          "output_type": "execute_result",
          "data": {
            "text/plain": [
              "['Pakistan', 5, 'abc', 9, 6, 2]"
            ]
          },
          "metadata": {
            "tags": []
          },
          "execution_count": 83
        }
      ]
    },
    {
      "cell_type": "markdown",
      "metadata": {
        "id": "lmkpnCjr-cZU"
      },
      "source": [
        "# Numpy (Data Structure)"
      ]
    },
    {
      "cell_type": "code",
      "metadata": {
        "colab": {
          "base_uri": "https://localhost:8080/"
        },
        "id": "ne275Oqoye31",
        "outputId": "3fdcccf7-535c-477b-c76d-bea280373f6f"
      },
      "source": [
        "import numpy as np\n",
        "x = np.array([1, 3, 5, 10, 11])\n",
        "\n",
        "x"
      ],
      "execution_count": 84,
      "outputs": [
        {
          "output_type": "execute_result",
          "data": {
            "text/plain": [
              "array([ 1,  3,  5, 10, 11])"
            ]
          },
          "metadata": {
            "tags": []
          },
          "execution_count": 84
        }
      ]
    },
    {
      "cell_type": "code",
      "metadata": {
        "id": "37IL5nQK-tAh"
      },
      "source": [
        "y = np.array([[1, 5, 9],\n",
        "             [2, 8, 3],\n",
        "             [5, 9, 6]])\n"
      ],
      "execution_count": 85,
      "outputs": []
    },
    {
      "cell_type": "code",
      "metadata": {
        "colab": {
          "base_uri": "https://localhost:8080/"
        },
        "id": "uu8Itroq-79V",
        "outputId": "9512df2c-f745-40ac-9e82-95dc07890d67"
      },
      "source": [
        "y"
      ],
      "execution_count": 86,
      "outputs": [
        {
          "output_type": "execute_result",
          "data": {
            "text/plain": [
              "array([[1, 5, 9],\n",
              "       [2, 8, 3],\n",
              "       [5, 9, 6]])"
            ]
          },
          "metadata": {
            "tags": []
          },
          "execution_count": 86
        }
      ]
    },
    {
      "cell_type": "code",
      "metadata": {
        "colab": {
          "base_uri": "https://localhost:8080/"
        },
        "id": "oOyv95ER_Q6o",
        "outputId": "88629fad-091c-4018-d982-80c5682334d0"
      },
      "source": [
        "y[1][2]"
      ],
      "execution_count": 87,
      "outputs": [
        {
          "output_type": "execute_result",
          "data": {
            "text/plain": [
              "3"
            ]
          },
          "metadata": {
            "tags": []
          },
          "execution_count": 87
        }
      ]
    },
    {
      "cell_type": "code",
      "metadata": {
        "colab": {
          "base_uri": "https://localhost:8080/"
        },
        "id": "YTJvlTFK_UlA",
        "outputId": "e08fe21f-a065-454f-ba23-182c94b6b7f0"
      },
      "source": [
        "y[1]"
      ],
      "execution_count": 88,
      "outputs": [
        {
          "output_type": "execute_result",
          "data": {
            "text/plain": [
              "array([2, 8, 3])"
            ]
          },
          "metadata": {
            "tags": []
          },
          "execution_count": 88
        }
      ]
    },
    {
      "cell_type": "code",
      "metadata": {
        "colab": {
          "base_uri": "https://localhost:8080/"
        },
        "id": "qE6r0Tmh_cka",
        "outputId": "38f4d68d-c5ff-494c-fcd5-5c0e620e7a94"
      },
      "source": [
        "y.shape # gives dimentions"
      ],
      "execution_count": 89,
      "outputs": [
        {
          "output_type": "execute_result",
          "data": {
            "text/plain": [
              "(3, 3)"
            ]
          },
          "metadata": {
            "tags": []
          },
          "execution_count": 89
        }
      ]
    },
    {
      "cell_type": "code",
      "metadata": {
        "colab": {
          "base_uri": "https://localhost:8080/"
        },
        "id": "xLACQFrA_kI2",
        "outputId": "4842f287-636c-4b8c-83ca-cf1a0d20a48f"
      },
      "source": [
        "x.shape"
      ],
      "execution_count": 90,
      "outputs": [
        {
          "output_type": "execute_result",
          "data": {
            "text/plain": [
              "(5,)"
            ]
          },
          "metadata": {
            "tags": []
          },
          "execution_count": 90
        }
      ]
    },
    {
      "cell_type": "code",
      "metadata": {
        "colab": {
          "base_uri": "https://localhost:8080/"
        },
        "id": "URIMcyfG_nap",
        "outputId": "60ff9b50-b49d-48e6-b7f4-c79d000e86b0"
      },
      "source": [
        "# print even index values in array\n",
        "\n",
        "import numpy as np\n",
        "x = np.array([1, 3, 5, 10, 11])\n",
        "x\n",
        "\n",
        "for i in range(0,len(x), 2):\n",
        "  print(x[i])"
      ],
      "execution_count": 91,
      "outputs": [
        {
          "output_type": "stream",
          "text": [
            "1\n",
            "5\n",
            "11\n"
          ],
          "name": "stdout"
        }
      ]
    },
    {
      "cell_type": "code",
      "metadata": {
        "colab": {
          "base_uri": "https://localhost:8080/"
        },
        "id": "jBtLpgQfAGCe",
        "outputId": "458fc057-17fe-45f1-b977-aaa5ffed0975"
      },
      "source": [
        "# print even values values in array\n",
        "\n",
        "import numpy as np\n",
        "x = np.array([1, 3, 5, 10, 11])\n",
        "x\n",
        "\n",
        "for i in range(0, len(x)):\n",
        "  if x[i] % 2==0:\n",
        "    print(x[i])"
      ],
      "execution_count": 92,
      "outputs": [
        {
          "output_type": "stream",
          "text": [
            "10\n"
          ],
          "name": "stdout"
        }
      ]
    },
    {
      "cell_type": "code",
      "metadata": {
        "colab": {
          "base_uri": "https://localhost:8080/"
        },
        "id": "rDVT3y1SEq7v",
        "outputId": "1ea8a5aa-4435-4190-ee7d-dc4d6c109047"
      },
      "source": [
        "x"
      ],
      "execution_count": 93,
      "outputs": [
        {
          "output_type": "execute_result",
          "data": {
            "text/plain": [
              "array([ 1,  3,  5, 10, 11])"
            ]
          },
          "metadata": {
            "tags": []
          },
          "execution_count": 93
        }
      ]
    },
    {
      "cell_type": "code",
      "metadata": {
        "colab": {
          "base_uri": "https://localhost:8080/"
        },
        "id": "CYEQ2F_MCF5C",
        "outputId": "82d5611a-a903-41d0-a0bd-de4a03113a64"
      },
      "source": [
        "for i in x:\n",
        "  print(x)"
      ],
      "execution_count": 94,
      "outputs": [
        {
          "output_type": "stream",
          "text": [
            "[ 1  3  5 10 11]\n",
            "[ 1  3  5 10 11]\n",
            "[ 1  3  5 10 11]\n",
            "[ 1  3  5 10 11]\n",
            "[ 1  3  5 10 11]\n"
          ],
          "name": "stdout"
        }
      ]
    },
    {
      "cell_type": "code",
      "metadata": {
        "colab": {
          "base_uri": "https://localhost:8080/"
        },
        "id": "z6En7AdiCLoi",
        "outputId": "d77f5681-b605-4dfd-8643-4f2299b9cba6"
      },
      "source": [
        "for i in range(len(x)):\n",
        "  print(x)"
      ],
      "execution_count": 95,
      "outputs": [
        {
          "output_type": "stream",
          "text": [
            "[ 1  3  5 10 11]\n",
            "[ 1  3  5 10 11]\n",
            "[ 1  3  5 10 11]\n",
            "[ 1  3  5 10 11]\n",
            "[ 1  3  5 10 11]\n"
          ],
          "name": "stdout"
        }
      ]
    },
    {
      "cell_type": "code",
      "metadata": {
        "id": "_eifIeQeCwBD"
      },
      "source": [
        ""
      ],
      "execution_count": null,
      "outputs": []
    },
    {
      "cell_type": "markdown",
      "metadata": {
        "id": "fbUjGMItGrOU"
      },
      "source": [
        "# sum of 2D array\n",
        "\n"
      ]
    },
    {
      "cell_type": "code",
      "metadata": {
        "colab": {
          "base_uri": "https://localhost:8080/"
        },
        "id": "ygCJHxgNGxZz",
        "outputId": "8d05bd44-b8b9-45af-9356-ed9cc83c1c98"
      },
      "source": [
        "# commulative sum of 2D array\n",
        "\n",
        "import numpy as np\n",
        "from numpy import random\n",
        "random.seed(0) # it will give the same random number every time.\n",
        "\n",
        "a = random.randint(11, 85, size =(3,5))\n",
        "sum =0\n",
        "r,c =a.shape\n",
        "\n",
        "for i in range(0,r):\n",
        "  for j in range(0,c):\n",
        "    sum = sum + a[i][j] #  also == sum = sum + a[i,j]\n",
        "\n",
        "print(sum)"
      ],
      "execution_count": 97,
      "outputs": [
        {
          "output_type": "stream",
          "text": [
            "847\n"
          ],
          "name": "stdout"
        }
      ]
    },
    {
      "cell_type": "code",
      "metadata": {
        "colab": {
          "base_uri": "https://localhost:8080/"
        },
        "id": "27ui-qFBHO2p",
        "outputId": "4a8b4daf-e290-4217-a2e2-e5e477904b66"
      },
      "source": [
        "a"
      ],
      "execution_count": 98,
      "outputs": [
        {
          "output_type": "execute_result",
          "data": {
            "text/plain": [
              "array([[55, 58, 75, 78, 78],\n",
              "       [20, 32, 47, 81, 23],\n",
              "       [69, 76, 50, 57, 48]])"
            ]
          },
          "metadata": {
            "tags": []
          },
          "execution_count": 98
        }
      ]
    },
    {
      "cell_type": "code",
      "metadata": {
        "colab": {
          "base_uri": "https://localhost:8080/"
        },
        "id": "vvdKylpEHPqU",
        "outputId": "e8c7812f-df1f-426c-cda8-01201eedc222"
      },
      "source": [
        "# Generate a 2D random array which prints only those data whose index sum is odd.\n",
        "\n",
        "import numpy as np\n",
        "from numpy import random\n",
        "random.seed(0)\n",
        "\n",
        "a = random.randint(11, 85, size =(3,5))\n",
        "\n",
        "r,c =a.shape\n",
        "for i in range(r):\n",
        "  for j in range(c):\n",
        "    if (i+j) %2 !=0:\n",
        "      print(a[i][j])\n",
        "\n",
        "    "
      ],
      "execution_count": 99,
      "outputs": [
        {
          "output_type": "stream",
          "text": [
            "58\n",
            "78\n",
            "20\n",
            "47\n",
            "23\n",
            "76\n",
            "57\n"
          ],
          "name": "stdout"
        }
      ]
    },
    {
      "cell_type": "code",
      "metadata": {
        "colab": {
          "base_uri": "https://localhost:8080/"
        },
        "id": "v1kPA20p0R0S",
        "outputId": "0b4403d8-20f0-496b-b9f5-21fcc62497ba"
      },
      "source": [
        "# concatenation of two arrays\n",
        "\n",
        "import numpy as np\n",
        "from numpy import random\n",
        "random.seed(0)\n",
        "\n",
        "a = random.randint(100, size =(2,3))\n",
        "b = random.randint(100, size =(2,3))\n",
        "\n",
        "print(a)\n",
        "print(b)\n",
        "\n",
        "arr = np.concatenate((a,b))\n",
        "print(arr)"
      ],
      "execution_count": 101,
      "outputs": [
        {
          "output_type": "stream",
          "text": [
            "[[44 47 64]\n",
            " [67 67  9]]\n",
            "[[83 21 36]\n",
            " [87 70 88]]\n",
            "[[44 47 64]\n",
            " [67 67  9]\n",
            " [83 21 36]\n",
            " [87 70 88]]\n"
          ],
          "name": "stdout"
        }
      ]
    },
    {
      "cell_type": "code",
      "metadata": {
        "colab": {
          "base_uri": "https://localhost:8080/"
        },
        "id": "WYPMOnYf01AO",
        "outputId": "6ed81203-4a94-4aae-caae-3ba371646eb5"
      },
      "source": [
        "# concatenation of two arrays\n",
        "\n",
        "import numpy as np\n",
        "from numpy import random\n",
        "random.seed(0)\n",
        "\n",
        "a = random.randint(100, size =(2,3))\n",
        "b = random.randint(100, size =(2,3))\n",
        "\n",
        "print(a)\n",
        "print(b)\n",
        "\n",
        "arr = np.concatenate((a,b), axis =1) # axis = 1\n",
        "print(arr)"
      ],
      "execution_count": 102,
      "outputs": [
        {
          "output_type": "stream",
          "text": [
            "[[44 47 64]\n",
            " [67 67  9]]\n",
            "[[83 21 36]\n",
            " [87 70 88]]\n",
            "[[44 47 64 83 21 36]\n",
            " [67 67  9 87 70 88]]\n"
          ],
          "name": "stdout"
        }
      ]
    },
    {
      "cell_type": "code",
      "metadata": {
        "colab": {
          "base_uri": "https://localhost:8080/"
        },
        "id": "hrQRIA8S02r6",
        "outputId": "059e7825-d8cf-4ccc-9678-520df109b5e2"
      },
      "source": [
        "# concatenation of two arrays\n",
        "\n",
        "import numpy as np\n",
        "from numpy import random\n",
        "random.seed(0)\n",
        "\n",
        "a = random.randint(100, size =(2,3))\n",
        "b = random.randint(100, size =(2,3))\n",
        "\n",
        "print(a)\n",
        "print(b)\n",
        "\n",
        "arr = np.concatenate((a,b), axis =0)  # axis = 0\n",
        "print(arr)"
      ],
      "execution_count": 104,
      "outputs": [
        {
          "output_type": "stream",
          "text": [
            "[[44 47 64]\n",
            " [67 67  9]]\n",
            "[[83 21 36]\n",
            " [87 70 88]]\n",
            "[[44 47 64]\n",
            " [67 67  9]\n",
            " [83 21 36]\n",
            " [87 70 88]]\n"
          ],
          "name": "stdout"
        }
      ]
    },
    {
      "cell_type": "code",
      "metadata": {
        "id": "KumVKzPc1a4a",
        "colab": {
          "base_uri": "https://localhost:8080/"
        },
        "outputId": "67180186-d893-4892-d785-7c2649708d2b"
      },
      "source": [
        "name = 'Rafay'\n",
        "\n",
        "for i in name:\n",
        "  print(name)"
      ],
      "execution_count": 105,
      "outputs": [
        {
          "output_type": "stream",
          "text": [
            "Rafay\n",
            "Rafay\n",
            "Rafay\n",
            "Rafay\n",
            "Rafay\n"
          ],
          "name": "stdout"
        }
      ]
    },
    {
      "cell_type": "code",
      "metadata": {
        "colab": {
          "base_uri": "https://localhost:8080/"
        },
        "id": "CSD6FcjAaQN8",
        "outputId": "a1f6d77c-100e-40b0-c31a-8c4363ddb2a3"
      },
      "source": [
        "#reverse the characters by using splicing function...\n",
        "\n",
        "name = name[::-1] # printing output using splicing\n",
        "print(name)"
      ],
      "execution_count": 106,
      "outputs": [
        {
          "output_type": "stream",
          "text": [
            "yafaR\n"
          ],
          "name": "stdout"
        }
      ]
    },
    {
      "cell_type": "code",
      "metadata": {
        "colab": {
          "base_uri": "https://localhost:8080/"
        },
        "id": "nun_xzHuanL8",
        "outputId": "11fabc11-30e1-4c90-9625-c92904389e9a"
      },
      "source": [
        "for i in range(4, -1, -1):\n",
        "  print(name[i])"
      ],
      "execution_count": 107,
      "outputs": [
        {
          "output_type": "stream",
          "text": [
            "R\n",
            "a\n",
            "f\n",
            "a\n",
            "y\n"
          ],
          "name": "stdout"
        }
      ]
    },
    {
      "cell_type": "code",
      "metadata": {
        "colab": {
          "base_uri": "https://localhost:8080/"
        },
        "id": "avyYKpQ_dDaR",
        "outputId": "c326ce47-4e65-4254-9852-7eea2eee388e"
      },
      "source": [
        "name = 'Rafay'\n",
        "for i in range(0, 5):\n",
        "  if name[i].islower():\n",
        "    print(name.upper(), end = ' ')\n",
        "  else:\n",
        "    print(name.lower(), end = ' ')"
      ],
      "execution_count": 108,
      "outputs": [
        {
          "output_type": "stream",
          "text": [
            "rafay RAFAY RAFAY RAFAY RAFAY "
          ],
          "name": "stdout"
        }
      ]
    },
    {
      "cell_type": "code",
      "metadata": {
        "colab": {
          "base_uri": "https://localhost:8080/"
        },
        "id": "OWw4Ldpwb5as",
        "outputId": "7aa4e528-7bbc-4112-820d-fbda08aa4ccd"
      },
      "source": [
        "name = 'Rafay'\n",
        "for i in range(0, 5):\n",
        "  if name[i].islower():\n",
        "    print(name[i].upper(), end = ' ')\n",
        "  elif name[i].isupper():\n",
        "    print(name[i].lower(), end = ' ')"
      ],
      "execution_count": 109,
      "outputs": [
        {
          "output_type": "stream",
          "text": [
            "r A F A Y "
          ],
          "name": "stdout"
        }
      ]
    },
    {
      "cell_type": "code",
      "metadata": {
        "colab": {
          "base_uri": "https://localhost:8080/"
        },
        "id": "LwJNuzVzceSg",
        "outputId": "182eb87a-db62-47f9-a8b8-06af7c5477bc"
      },
      "source": [
        "#spilting arrays in different sizes\n",
        "arr = [1, 2, 3, 4, 5, 6]\n",
        "\n",
        "newarr = np.array_split(arr, 3)\n",
        "print(newarr)"
      ],
      "execution_count": 110,
      "outputs": [
        {
          "output_type": "stream",
          "text": [
            "[array([1, 2]), array([3, 4]), array([5, 6])]\n"
          ],
          "name": "stdout"
        }
      ]
    },
    {
      "cell_type": "code",
      "metadata": {
        "colab": {
          "base_uri": "https://localhost:8080/"
        },
        "id": "eDt0HbBAesfW",
        "outputId": "1754eb35-da18-43a8-f398-19f9db07c6d5"
      },
      "source": [
        "#spilting arrays in different sizes\n",
        "arr = [1, 2, 3, 4, 5, 6]\n",
        "\n",
        "newarr = np.array_split(arr, 5)\n",
        "print(newarr)"
      ],
      "execution_count": 111,
      "outputs": [
        {
          "output_type": "stream",
          "text": [
            "[array([1, 2]), array([3]), array([4]), array([5]), array([6])]\n"
          ],
          "name": "stdout"
        }
      ]
    },
    {
      "cell_type": "code",
      "metadata": {
        "colab": {
          "base_uri": "https://localhost:8080/"
        },
        "id": "ElyINqZle1Sn",
        "outputId": "c0bd22df-0472-456b-e353-fad04f93384e"
      },
      "source": [
        "# searching elements in an array \n",
        "# and print their indices...\n",
        "\n",
        "arr_ind =[]  # like where function \n",
        "search_elem = 4\n",
        "arr =[1, 2, 3, 4, 5, 4, 4]\n",
        "for i in range(len(arr)):\n",
        "  if arr[i] == search_elem:\n",
        "    arr_ind.append(i)\n",
        "print(arr_ind)"
      ],
      "execution_count": 112,
      "outputs": [
        {
          "output_type": "stream",
          "text": [
            "[3, 5, 6]\n"
          ],
          "name": "stdout"
        }
      ]
    },
    {
      "cell_type": "code",
      "metadata": {
        "id": "dc63g1Y8faU8"
      },
      "source": [
        "# searching elements in an array \n",
        "# and print their indices...\n",
        "# like where function \n",
        "\n",
        "def mysearch(arr, search_elem):\n",
        "  arr_ind =[] \n",
        "  for i in range(len(arr)):\n",
        "    if arr[i] == search_elem:\n",
        "      arr_ind.append(i)\n",
        "  print(arr_ind)"
      ],
      "execution_count": 113,
      "outputs": []
    },
    {
      "cell_type": "code",
      "metadata": {
        "colab": {
          "base_uri": "https://localhost:8080/"
        },
        "id": "c32YiI2dgj5O",
        "outputId": "93ae8da5-4c3f-49bb-b585-28e15dfd26c4"
      },
      "source": [
        "mysearch(arr,search_elem)"
      ],
      "execution_count": 114,
      "outputs": [
        {
          "output_type": "stream",
          "text": [
            "[3, 5, 6]\n"
          ],
          "name": "stdout"
        }
      ]
    }
  ]
}