{
  "nbformat": 4,
  "nbformat_minor": 0,
  "metadata": {
    "colab": {
      "name": "python_practice.ipynb",
      "provenance": [],
      "collapsed_sections": []
    },
    "kernelspec": {
      "name": "python3",
      "display_name": "Python 3"
    },
    "language_info": {
      "name": "python"
    }
  },
  "cells": [
    {
      "cell_type": "markdown",
      "metadata": {
        "id": "D-pIIqxUWW06"
      },
      "source": [
        "#Hello World"
      ]
    },
    {
      "cell_type": "code",
      "metadata": {
        "id": "I2fBPEjkRL3J",
        "colab": {
          "base_uri": "https://localhost:8080/"
        },
        "outputId": "01dda340-4bc0-46d6-db89-94857c6650d8"
      },
      "source": [
        "print('hello world')"
      ],
      "execution_count": 2,
      "outputs": [
        {
          "output_type": "stream",
          "text": [
            "hello world\n"
          ],
          "name": "stdout"
        }
      ]
    },
    {
      "cell_type": "markdown",
      "metadata": {
        "id": "OaJu6cIQWfDD"
      },
      "source": [
        "#Drawing shape"
      ]
    },
    {
      "cell_type": "code",
      "metadata": {
        "colab": {
          "base_uri": "https://localhost:8080/"
        },
        "id": "y4uEag_AV_a6",
        "outputId": "9dab9148-c264-4a6f-87f0-5ef0f8090669"
      },
      "source": [
        "print('   /|')\n",
        "print('  / |')\n",
        "print(' /  |')\n",
        "print('/___|')"
      ],
      "execution_count": 3,
      "outputs": [
        {
          "output_type": "stream",
          "text": [
            "   /|\n",
            "  / |\n",
            " /  |\n",
            "/___|\n"
          ],
          "name": "stdout"
        }
      ]
    },
    {
      "cell_type": "markdown",
      "metadata": {
        "id": "MQn1Pg25X7LL"
      },
      "source": [
        "# Variables & Types"
      ]
    },
    {
      "cell_type": "code",
      "metadata": {
        "id": "FT5BPxV2XRap"
      },
      "source": [
        " # string\n",
        " #numbers \n",
        " #True False"
      ],
      "execution_count": 4,
      "outputs": []
    },
    {
      "cell_type": "markdown",
      "metadata": {
        "id": "4LyuxAEqcXwN"
      },
      "source": [
        "# Working with strings"
      ]
    },
    {
      "cell_type": "code",
      "metadata": {
        "colab": {
          "base_uri": "https://localhost:8080/"
        },
        "id": "2y1wnO6McBNG",
        "outputId": "c28c205b-98fb-4bcb-b78b-11134da57cf0"
      },
      "source": [
        "print('Girfaffe\\nAcademy')"
      ],
      "execution_count": 5,
      "outputs": [
        {
          "output_type": "stream",
          "text": [
            "Girfaffe\n",
            "Academy\n"
          ],
          "name": "stdout"
        }
      ]
    },
    {
      "cell_type": "code",
      "metadata": {
        "colab": {
          "base_uri": "https://localhost:8080/"
        },
        "id": "Q7haq0Oyclrq",
        "outputId": "43d13fe3-1d4c-4b1a-8ff1-549195b3bf3b"
      },
      "source": [
        "print('Girfaffe\\\"Academy')"
      ],
      "execution_count": 6,
      "outputs": [
        {
          "output_type": "stream",
          "text": [
            "Girfaffe\"Academy\n"
          ],
          "name": "stdout"
        }
      ]
    },
    {
      "cell_type": "code",
      "metadata": {
        "colab": {
          "base_uri": "https://localhost:8080/"
        },
        "id": "cg76Vxm-c3b_",
        "outputId": "9c382013-2ece-4b77-91ce-74b9050df235"
      },
      "source": [
        "phrase =  'Giraffe Academy'\n",
        "print('phrase')"
      ],
      "execution_count": 7,
      "outputs": [
        {
          "output_type": "stream",
          "text": [
            "phrase\n"
          ],
          "name": "stdout"
        }
      ]
    },
    {
      "cell_type": "code",
      "metadata": {
        "colab": {
          "base_uri": "https://localhost:8080/"
        },
        "id": "rzL5ZVBadFrU",
        "outputId": "9cf19207-4f52-4788-d0b7-b75ae783acb8"
      },
      "source": [
        "print(phrase+ ' is cool')"
      ],
      "execution_count": 8,
      "outputs": [
        {
          "output_type": "stream",
          "text": [
            "Giraffe Academy is cool\n"
          ],
          "name": "stdout"
        }
      ]
    },
    {
      "cell_type": "code",
      "metadata": {
        "colab": {
          "base_uri": "https://localhost:8080/"
        },
        "id": "RUPxVPFMdMND",
        "outputId": "92fd9fa3-872f-464d-e371-2622c0485628"
      },
      "source": [
        "print(phrase.lower())"
      ],
      "execution_count": 9,
      "outputs": [
        {
          "output_type": "stream",
          "text": [
            "giraffe academy\n"
          ],
          "name": "stdout"
        }
      ]
    },
    {
      "cell_type": "code",
      "metadata": {
        "colab": {
          "base_uri": "https://localhost:8080/"
        },
        "id": "3r4bfWQpdZeD",
        "outputId": "b48dd5d6-ded8-4fd6-b672-cdeb51d4f06e"
      },
      "source": [
        "print(phrase.upper())"
      ],
      "execution_count": 10,
      "outputs": [
        {
          "output_type": "stream",
          "text": [
            "GIRAFFE ACADEMY\n"
          ],
          "name": "stdout"
        }
      ]
    },
    {
      "cell_type": "code",
      "metadata": {
        "colab": {
          "base_uri": "https://localhost:8080/"
        },
        "id": "YwI1e-X8drKh",
        "outputId": "d866311f-c54e-424f-ce70-f39db300de12"
      },
      "source": [
        "print(phrase.isupper())"
      ],
      "execution_count": 11,
      "outputs": [
        {
          "output_type": "stream",
          "text": [
            "False\n"
          ],
          "name": "stdout"
        }
      ]
    },
    {
      "cell_type": "code",
      "metadata": {
        "colab": {
          "base_uri": "https://localhost:8080/",
          "height": 35
        },
        "id": "NwilKzcVd0GE",
        "outputId": "136efebf-66f7-4253-ba6b-cc0caae28f14"
      },
      "source": [
        "phrase"
      ],
      "execution_count": 12,
      "outputs": [
        {
          "output_type": "execute_result",
          "data": {
            "application/vnd.google.colaboratory.intrinsic+json": {
              "type": "string"
            },
            "text/plain": [
              "'Giraffe Academy'"
            ]
          },
          "metadata": {
            "tags": []
          },
          "execution_count": 12
        }
      ]
    },
    {
      "cell_type": "code",
      "metadata": {
        "colab": {
          "base_uri": "https://localhost:8080/"
        },
        "id": "dPcnINE3d5KH",
        "outputId": "4ed50e74-4836-41df-a71d-79a437267d3d"
      },
      "source": [
        "print(phrase.upper().isupper())"
      ],
      "execution_count": 13,
      "outputs": [
        {
          "output_type": "stream",
          "text": [
            "True\n"
          ],
          "name": "stdout"
        }
      ]
    },
    {
      "cell_type": "code",
      "metadata": {
        "colab": {
          "base_uri": "https://localhost:8080/"
        },
        "id": "xkQoC9YYeGpk",
        "outputId": "ccd40142-457b-427f-cfc9-35baf10b0fff"
      },
      "source": [
        " print(len(phrase))"
      ],
      "execution_count": 14,
      "outputs": [
        {
          "output_type": "stream",
          "text": [
            "15\n"
          ],
          "name": "stdout"
        }
      ]
    },
    {
      "cell_type": "code",
      "metadata": {
        "colab": {
          "base_uri": "https://localhost:8080/"
        },
        "id": "slFce55OePNo",
        "outputId": "09bc8b58-ae87-43d8-d678-73f5593523b1"
      },
      "source": [
        "print(phrase[0])"
      ],
      "execution_count": 15,
      "outputs": [
        {
          "output_type": "stream",
          "text": [
            "G\n"
          ],
          "name": "stdout"
        }
      ]
    },
    {
      "cell_type": "code",
      "metadata": {
        "colab": {
          "base_uri": "https://localhost:8080/"
        },
        "id": "sM1IlgOHegnv",
        "outputId": "1002d7bc-8ed6-4602-84a7-5ebdfb1627d5"
      },
      "source": [
        "print(phrase[-1])"
      ],
      "execution_count": 16,
      "outputs": [
        {
          "output_type": "stream",
          "text": [
            "y\n"
          ],
          "name": "stdout"
        }
      ]
    },
    {
      "cell_type": "code",
      "metadata": {
        "colab": {
          "base_uri": "https://localhost:8080/"
        },
        "id": "m5j2Egbxenew",
        "outputId": "154ff512-1e9c-431c-a77f-c6dd4d53c74c"
      },
      "source": [
        "print(phrase.index('G'))"
      ],
      "execution_count": 17,
      "outputs": [
        {
          "output_type": "stream",
          "text": [
            "0\n"
          ],
          "name": "stdout"
        }
      ]
    },
    {
      "cell_type": "code",
      "metadata": {
        "colab": {
          "base_uri": "https://localhost:8080/"
        },
        "id": "gSw1AZ9ifG_G",
        "outputId": "47533ea7-de98-4abf-afb7-f1fd236b2cda"
      },
      "source": [
        "print(phrase.index('y'))"
      ],
      "execution_count": 18,
      "outputs": [
        {
          "output_type": "stream",
          "text": [
            "14\n"
          ],
          "name": "stdout"
        }
      ]
    },
    {
      "cell_type": "code",
      "metadata": {
        "colab": {
          "base_uri": "https://localhost:8080/"
        },
        "id": "YEruepWjfLF5",
        "outputId": "b50bbe8f-d86a-4ca9-8a62-3dc967192103"
      },
      "source": [
        "print(phrase.index('a'))"
      ],
      "execution_count": 19,
      "outputs": [
        {
          "output_type": "stream",
          "text": [
            "3\n"
          ],
          "name": "stdout"
        }
      ]
    },
    {
      "cell_type": "code",
      "metadata": {
        "colab": {
          "base_uri": "https://localhost:8080/"
        },
        "id": "3CR10_7JfU2j",
        "outputId": "1d1ac94e-4433-430e-a4bc-1c33e0e829e9"
      },
      "source": [
        "print(phrase.replace('Giraffe', 'Elephant'))"
      ],
      "execution_count": 20,
      "outputs": [
        {
          "output_type": "stream",
          "text": [
            "Elephant Academy\n"
          ],
          "name": "stdout"
        }
      ]
    },
    {
      "cell_type": "markdown",
      "metadata": {
        "id": "Ei78dVHugGyz"
      },
      "source": [
        "# Working with Numbers"
      ]
    },
    {
      "cell_type": "code",
      "metadata": {
        "colab": {
          "base_uri": "https://localhost:8080/"
        },
        "id": "V7yi_FXTf8r5",
        "outputId": "de2d12d3-61be-461d-9bd5-3b2e170620c1"
      },
      "source": [
        " print(2.0987)"
      ],
      "execution_count": 21,
      "outputs": [
        {
          "output_type": "stream",
          "text": [
            "2.0987\n"
          ],
          "name": "stdout"
        }
      ]
    },
    {
      "cell_type": "code",
      "metadata": {
        "colab": {
          "base_uri": "https://localhost:8080/"
        },
        "id": "-KewjqnpgkyC",
        "outputId": "17133313-0e69-42e9-d214-d337b80ab451"
      },
      "source": [
        "print(-2.0987)"
      ],
      "execution_count": 22,
      "outputs": [
        {
          "output_type": "stream",
          "text": [
            "-2.0987\n"
          ],
          "name": "stdout"
        }
      ]
    },
    {
      "cell_type": "code",
      "metadata": {
        "colab": {
          "base_uri": "https://localhost:8080/"
        },
        "id": "IrnxN9Angore",
        "outputId": "571b7647-7870-4c5e-ecf1-c29db22df94f"
      },
      "source": [
        "print(3 + 4.5)"
      ],
      "execution_count": 23,
      "outputs": [
        {
          "output_type": "stream",
          "text": [
            "7.5\n"
          ],
          "name": "stdout"
        }
      ]
    },
    {
      "cell_type": "code",
      "metadata": {
        "colab": {
          "base_uri": "https://localhost:8080/"
        },
        "id": "mvSvZx_Lgsmz",
        "outputId": "5780e56d-cb49-4fff-bd86-1aa7d430ab7c"
      },
      "source": [
        "print(10 % 3)"
      ],
      "execution_count": 24,
      "outputs": [
        {
          "output_type": "stream",
          "text": [
            "1\n"
          ],
          "name": "stdout"
        }
      ]
    },
    {
      "cell_type": "code",
      "metadata": {
        "colab": {
          "base_uri": "https://localhost:8080/"
        },
        "id": "f3xbe3I0hAjA",
        "outputId": "1ceea02a-6ef9-4eb1-cfda-4e840a784ba4"
      },
      "source": [
        "my_num = 5\n",
        "print(my_num)"
      ],
      "execution_count": 25,
      "outputs": [
        {
          "output_type": "stream",
          "text": [
            "5\n"
          ],
          "name": "stdout"
        }
      ]
    },
    {
      "cell_type": "code",
      "metadata": {
        "colab": {
          "base_uri": "https://localhost:8080/"
        },
        "id": "7ViIlDI7hJp5",
        "outputId": "d90533c5-1c27-4481-ad3c-333ff26c4970"
      },
      "source": [
        "print(str(my_num) + ' my favourite number') # you cannot add number to string"
      ],
      "execution_count": 26,
      "outputs": [
        {
          "output_type": "stream",
          "text": [
            "5 my favourite number\n"
          ],
          "name": "stdout"
        }
      ]
    },
    {
      "cell_type": "code",
      "metadata": {
        "colab": {
          "base_uri": "https://localhost:8080/"
        },
        "id": "CltCDKGlhQdK",
        "outputId": "02c7ec3f-7ee2-4c4e-c11c-629f9b9def0d"
      },
      "source": [
        "my_num = -5\n",
        "print(abs(my_num))"
      ],
      "execution_count": 27,
      "outputs": [
        {
          "output_type": "stream",
          "text": [
            "5\n"
          ],
          "name": "stdout"
        }
      ]
    },
    {
      "cell_type": "code",
      "metadata": {
        "colab": {
          "base_uri": "https://localhost:8080/"
        },
        "id": "wLjnyQjrh0fe",
        "outputId": "bc3b3f90-e6e3-4f89-a9b6-e1b5dbf77eb2"
      },
      "source": [
        "print(pow(3, 2))"
      ],
      "execution_count": 28,
      "outputs": [
        {
          "output_type": "stream",
          "text": [
            "9\n"
          ],
          "name": "stdout"
        }
      ]
    },
    {
      "cell_type": "code",
      "metadata": {
        "colab": {
          "base_uri": "https://localhost:8080/"
        },
        "id": "N9ev3AxXiCCk",
        "outputId": "8de5ca2f-afcf-4851-fcdd-34dc9da50924"
      },
      "source": [
        "print(3 ** 2)"
      ],
      "execution_count": 29,
      "outputs": [
        {
          "output_type": "stream",
          "text": [
            "9\n"
          ],
          "name": "stdout"
        }
      ]
    },
    {
      "cell_type": "code",
      "metadata": {
        "colab": {
          "base_uri": "https://localhost:8080/"
        },
        "id": "8ymTuemriHY5",
        "outputId": "53e4dc82-2b4e-4c63-d822-1dd64c0af2e4"
      },
      "source": [
        "print(min(4, 6))"
      ],
      "execution_count": 30,
      "outputs": [
        {
          "output_type": "stream",
          "text": [
            "4\n"
          ],
          "name": "stdout"
        }
      ]
    },
    {
      "cell_type": "code",
      "metadata": {
        "colab": {
          "base_uri": "https://localhost:8080/"
        },
        "id": "LiaRNqiHiN5E",
        "outputId": "cd32997e-7aac-4786-fd8e-fc6984d6515c"
      },
      "source": [
        "print(round(3.2))"
      ],
      "execution_count": 31,
      "outputs": [
        {
          "output_type": "stream",
          "text": [
            "3\n"
          ],
          "name": "stdout"
        }
      ]
    },
    {
      "cell_type": "code",
      "metadata": {
        "colab": {
          "base_uri": "https://localhost:8080/"
        },
        "id": "E_8P2YzuiyVk",
        "outputId": "5c6a7ecb-4058-4219-d097-ee8cc9591a08"
      },
      "source": [
        "print(round(3.5))"
      ],
      "execution_count": 32,
      "outputs": [
        {
          "output_type": "stream",
          "text": [
            "4\n"
          ],
          "name": "stdout"
        }
      ]
    },
    {
      "cell_type": "code",
      "metadata": {
        "colab": {
          "base_uri": "https://localhost:8080/"
        },
        "id": "unuwl78Mi5At",
        "outputId": "9b3be892-8119-465f-c245-4ceec88380f7"
      },
      "source": [
        "print(round(4.5))"
      ],
      "execution_count": 33,
      "outputs": [
        {
          "output_type": "stream",
          "text": [
            "4\n"
          ],
          "name": "stdout"
        }
      ]
    },
    {
      "cell_type": "code",
      "metadata": {
        "id": "0Adc5TARi7gV"
      },
      "source": [
        "from math import *"
      ],
      "execution_count": 34,
      "outputs": []
    },
    {
      "cell_type": "code",
      "metadata": {
        "colab": {
          "base_uri": "https://localhost:8080/"
        },
        "id": "9BiMXjXejLy_",
        "outputId": "e9481e5e-1bcf-4838-a11a-f0b7b72d0d8d"
      },
      "source": [
        "print(ceil(3.7))"
      ],
      "execution_count": 35,
      "outputs": [
        {
          "output_type": "stream",
          "text": [
            "4\n"
          ],
          "name": "stdout"
        }
      ]
    },
    {
      "cell_type": "code",
      "metadata": {
        "colab": {
          "base_uri": "https://localhost:8080/"
        },
        "id": "ZLJy4ct-jPGD",
        "outputId": "5ab89ccd-8206-4b8e-9fa4-54c356ccc0c3"
      },
      "source": [
        "print(floor(3.7))"
      ],
      "execution_count": 36,
      "outputs": [
        {
          "output_type": "stream",
          "text": [
            "3\n"
          ],
          "name": "stdout"
        }
      ]
    },
    {
      "cell_type": "markdown",
      "metadata": {
        "id": "OSvxtDq_j4WR"
      },
      "source": [
        "# Getting input from Users"
      ]
    },
    {
      "cell_type": "code",
      "metadata": {
        "colab": {
          "base_uri": "https://localhost:8080/"
        },
        "id": "riI0Ro5LjXOS",
        "outputId": "06f9e5b2-ec3d-4d5c-b93b-ed669486c368"
      },
      "source": [
        "name = input('Enter your name: ')\n",
        "print('Hello ' + name +'!')"
      ],
      "execution_count": 37,
      "outputs": [
        {
          "output_type": "stream",
          "text": [
            "Enter your name: suleman\n",
            "Hello suleman!\n"
          ],
          "name": "stdout"
        }
      ]
    },
    {
      "cell_type": "code",
      "metadata": {
        "colab": {
          "base_uri": "https://localhost:8080/"
        },
        "id": "RxJEXEbCkmuC",
        "outputId": "a6f50b09-9147-4f89-e6b3-4e6a948fb698"
      },
      "source": [
        "print(name)"
      ],
      "execution_count": 38,
      "outputs": [
        {
          "output_type": "stream",
          "text": [
            "suleman\n"
          ],
          "name": "stdout"
        }
      ]
    },
    {
      "cell_type": "code",
      "metadata": {
        "colab": {
          "base_uri": "https://localhost:8080/"
        },
        "id": "rMXsnv-ckzd5",
        "outputId": "83cc316d-1c96-466c-867a-44bc4f13526e"
      },
      "source": [
        " name = input('Enter your name: ')\n",
        " age = input('Enter your age:')\n",
        "print('Hello ' + name +'! You are ' + age)"
      ],
      "execution_count": 39,
      "outputs": [
        {
          "output_type": "stream",
          "text": [
            "Enter your name: suleman\n",
            "Enter your age:suleman\n",
            "Hello suleman! You are suleman\n"
          ],
          "name": "stdout"
        }
      ]
    },
    {
      "cell_type": "markdown",
      "metadata": {
        "id": "q2B6Lp6fliiV"
      },
      "source": [
        "#  Building a basic calculator"
      ]
    },
    {
      "cell_type": "code",
      "metadata": {
        "colab": {
          "base_uri": "https://localhost:8080/"
        },
        "id": "aa9oyWkulWDl",
        "outputId": "be1dc709-0e2f-4ec2-b6dd-c560ab07609d"
      },
      "source": [
        "num1 = input('Enter a number: ')\n",
        "num2 = input('Enter another number: ')\n",
        "result = num1 + num2\n",
        "\n",
        "print(result)"
      ],
      "execution_count": 40,
      "outputs": [
        {
          "output_type": "stream",
          "text": [
            "Enter a number: 5\n",
            "Enter another number: 9\n",
            "59\n"
          ],
          "name": "stdout"
        }
      ]
    },
    {
      "cell_type": "code",
      "metadata": {
        "colab": {
          "base_uri": "https://localhost:8080/"
        },
        "id": "12W2sGgKmGRI",
        "outputId": "478e9853-45ad-40c2-f3f5-7845ae93dd95"
      },
      "source": [
        "num1 = input('Enter a number: ')\n",
        "num2 = input('Enter another number: ')\n",
        "result = int(num1) + int(num2)\n",
        "\n",
        "print(result)"
      ],
      "execution_count": 41,
      "outputs": [
        {
          "output_type": "stream",
          "text": [
            "Enter a number: 3\n",
            "Enter another number: 1\n",
            "4\n"
          ],
          "name": "stdout"
        }
      ]
    },
    {
      "cell_type": "code",
      "metadata": {
        "colab": {
          "base_uri": "https://localhost:8080/"
        },
        "id": "ai7DfSjLmgh5",
        "outputId": "99df22f6-dfd2-462a-a813-062086e0a6a7"
      },
      "source": [
        "num1 = input('Enter a number: ')\n",
        "num2 = input('Enter another number: ')\n",
        "result = float(num1) + float(num2)\n",
        "\n",
        "print(result)"
      ],
      "execution_count": 42,
      "outputs": [
        {
          "output_type": "stream",
          "text": [
            "Enter a number: 3\n",
            "Enter another number: 2\n",
            "5.0\n"
          ],
          "name": "stdout"
        }
      ]
    },
    {
      "cell_type": "code",
      "metadata": {
        "colab": {
          "base_uri": "https://localhost:8080/"
        },
        "id": "YjfREcQYofBi",
        "outputId": "4158ff34-57a1-4369-a40f-f4edc77464ea"
      },
      "source": [
        "num1 = input('Enter a number: ')\n",
        "num2 = input('Enter another number: ')\n",
        "result = float(num1) + float(num2)\n",
        "\n",
        "print(result)"
      ],
      "execution_count": 43,
      "outputs": [
        {
          "output_type": "stream",
          "text": [
            "Enter a number: 8\n",
            "Enter another number: 6\n",
            "14.0\n"
          ],
          "name": "stdout"
        }
      ]
    },
    {
      "cell_type": "markdown",
      "metadata": {
        "id": "92T22ydjovA8"
      },
      "source": [
        "#Mad Libs Game"
      ]
    },
    {
      "cell_type": "code",
      "metadata": {
        "colab": {
          "base_uri": "https://localhost:8080/"
        },
        "id": "EjhDwUKxoou3",
        "outputId": "3fb55dc2-9f90-485b-c171-cfce476f41ac"
      },
      "source": [
        "print('Roses are red')\n",
        "print('Violets are blue')\n",
        "print('I love you')"
      ],
      "execution_count": 44,
      "outputs": [
        {
          "output_type": "stream",
          "text": [
            "Roses are red\n",
            "Violets are blue\n",
            "I love you\n"
          ],
          "name": "stdout"
        }
      ]
    },
    {
      "cell_type": "code",
      "metadata": {
        "colab": {
          "base_uri": "https://localhost:8080/"
        },
        "id": "PpXckF5ZqIii",
        "outputId": "a1fe555f-0e7e-4c17-c74c-df3e66dc553b"
      },
      "source": [
        "color = input('Enter a color: ')\n",
        "plural_noun = input('Enter a plural nount: ')\n",
        "celebrity =  input('Enter a celebrity: ')\n",
        "\n",
        "print('Roses are '  + color)\n",
        "print(plural_noun +' are blue')\n",
        "print('I love ' + celebrity)"
      ],
      "execution_count": 45,
      "outputs": [
        {
          "output_type": "stream",
          "text": [
            "Enter a color: red\n",
            "Enter a plural nount: cats\n",
            "Enter a celebrity: tom\n",
            "Roses are red\n",
            "cats are blue\n",
            "I love tom\n"
          ],
          "name": "stdout"
        }
      ]
    },
    {
      "cell_type": "markdown",
      "metadata": {
        "id": "pFQOLDYbstnu"
      },
      "source": [
        "#Lists"
      ]
    },
    {
      "cell_type": "code",
      "metadata": {
        "id": "WybG3qdVsRkK"
      },
      "source": [
        "friends =  ['kevin', 'karen', 'jim']"
      ],
      "execution_count": 46,
      "outputs": []
    },
    {
      "cell_type": "code",
      "metadata": {
        "colab": {
          "base_uri": "https://localhost:8080/"
        },
        "id": "sXvMAn-V1whH",
        "outputId": "8811a8d7-9c9d-481e-c6b1-405c1fd46109"
      },
      "source": [
        "print(friends)"
      ],
      "execution_count": 47,
      "outputs": [
        {
          "output_type": "stream",
          "text": [
            "['kevin', 'karen', 'jim']\n"
          ],
          "name": "stdout"
        }
      ]
    },
    {
      "cell_type": "code",
      "metadata": {
        "colab": {
          "base_uri": "https://localhost:8080/"
        },
        "id": "6cWUVHQ81zPU",
        "outputId": "400e6129-00ca-4c91-b5da-98a7e8ea0a6e"
      },
      "source": [
        "friends"
      ],
      "execution_count": 48,
      "outputs": [
        {
          "output_type": "execute_result",
          "data": {
            "text/plain": [
              "['kevin', 'karen', 'jim']"
            ]
          },
          "metadata": {
            "tags": []
          },
          "execution_count": 48
        }
      ]
    },
    {
      "cell_type": "code",
      "metadata": {
        "colab": {
          "base_uri": "https://localhost:8080/"
        },
        "id": "06lQYUHU124R",
        "outputId": "5a9f52f8-9e07-47b3-f50f-15c35129a808"
      },
      "source": [
        "print(friends[0])"
      ],
      "execution_count": 49,
      "outputs": [
        {
          "output_type": "stream",
          "text": [
            "kevin\n"
          ],
          "name": "stdout"
        }
      ]
    },
    {
      "cell_type": "code",
      "metadata": {
        "colab": {
          "base_uri": "https://localhost:8080/"
        },
        "id": "j2Vw2kAe2FKq",
        "outputId": "85470f80-17d2-416f-b292-b7dc7b98b046"
      },
      "source": [
        "print(friends[-1])"
      ],
      "execution_count": 50,
      "outputs": [
        {
          "output_type": "stream",
          "text": [
            "jim\n"
          ],
          "name": "stdout"
        }
      ]
    },
    {
      "cell_type": "code",
      "metadata": {
        "colab": {
          "base_uri": "https://localhost:8080/"
        },
        "id": "vzml3EYA2Kba",
        "outputId": "91678737-75e4-4efe-e372-010ee6a075ff"
      },
      "source": [
        "print(friends[1:])"
      ],
      "execution_count": 51,
      "outputs": [
        {
          "output_type": "stream",
          "text": [
            "['karen', 'jim']\n"
          ],
          "name": "stdout"
        }
      ]
    },
    {
      "cell_type": "code",
      "metadata": {
        "colab": {
          "base_uri": "https://localhost:8080/"
        },
        "id": "8hFb6VDq2nnK",
        "outputId": "042c38ca-adea-42c5-eb12-f4bab16c62ea"
      },
      "source": [
        "print(friends[0:])"
      ],
      "execution_count": 52,
      "outputs": [
        {
          "output_type": "stream",
          "text": [
            "['kevin', 'karen', 'jim']\n"
          ],
          "name": "stdout"
        }
      ]
    },
    {
      "cell_type": "code",
      "metadata": {
        "colab": {
          "base_uri": "https://localhost:8080/"
        },
        "id": "aG1u5w2H2vlK",
        "outputId": "7327700f-fe7e-4a2c-cc89-f24c4cd8d15c"
      },
      "source": [
        "print(friends[0:1])"
      ],
      "execution_count": 53,
      "outputs": [
        {
          "output_type": "stream",
          "text": [
            "['kevin']\n"
          ],
          "name": "stdout"
        }
      ]
    },
    {
      "cell_type": "code",
      "metadata": {
        "colab": {
          "base_uri": "https://localhost:8080/"
        },
        "id": "xl5eHlMX2z1b",
        "outputId": "51f80ded-b7e5-47b7-92e5-416e8c451955"
      },
      "source": [
        "print(friends[0:2])"
      ],
      "execution_count": 54,
      "outputs": [
        {
          "output_type": "stream",
          "text": [
            "['kevin', 'karen']\n"
          ],
          "name": "stdout"
        }
      ]
    },
    {
      "cell_type": "code",
      "metadata": {
        "id": "jL_5Qr_L26r-"
      },
      "source": [
        "friends =  ['kevin', 'karen', 'jim', 'oscar', 'toby']"
      ],
      "execution_count": 55,
      "outputs": []
    },
    {
      "cell_type": "code",
      "metadata": {
        "colab": {
          "base_uri": "https://localhost:8080/"
        },
        "id": "AFFH9LvL3INT",
        "outputId": "c5e144db-2392-4247-9404-63424786c538"
      },
      "source": [
        "print(friends[1:])"
      ],
      "execution_count": 56,
      "outputs": [
        {
          "output_type": "stream",
          "text": [
            "['karen', 'jim', 'oscar', 'toby']\n"
          ],
          "name": "stdout"
        }
      ]
    },
    {
      "cell_type": "code",
      "metadata": {
        "id": "zP81sWCz3RVO"
      },
      "source": [
        "friends[1] = 'mike'"
      ],
      "execution_count": 57,
      "outputs": []
    },
    {
      "cell_type": "code",
      "metadata": {
        "colab": {
          "base_uri": "https://localhost:8080/",
          "height": 35
        },
        "id": "QZAXHSjc3azx",
        "outputId": "8c16afac-d43d-41e7-a4a6-74d9baa9b6b3"
      },
      "source": [
        "friends[1]"
      ],
      "execution_count": 58,
      "outputs": [
        {
          "output_type": "execute_result",
          "data": {
            "application/vnd.google.colaboratory.intrinsic+json": {
              "type": "string"
            },
            "text/plain": [
              "'mike'"
            ]
          },
          "metadata": {
            "tags": []
          },
          "execution_count": 58
        }
      ]
    },
    {
      "cell_type": "code",
      "metadata": {
        "colab": {
          "base_uri": "https://localhost:8080/"
        },
        "id": "CtnVl96z3dL7",
        "outputId": "e6d72a6b-3a9f-4c88-e941-986ed59cbb8b"
      },
      "source": [
        "print(friends[1])"
      ],
      "execution_count": 59,
      "outputs": [
        {
          "output_type": "stream",
          "text": [
            "mike\n"
          ],
          "name": "stdout"
        }
      ]
    },
    {
      "cell_type": "markdown",
      "metadata": {
        "id": "udNd0-Jj3vMJ"
      },
      "source": [
        "# List Functions"
      ]
    },
    {
      "cell_type": "code",
      "metadata": {
        "colab": {
          "base_uri": "https://localhost:8080/"
        },
        "id": "WNcKdskS3f_W",
        "outputId": "fd7b75dc-24f9-4f43-c4e6-61e89394933d"
      },
      "source": [
        "lucky_numbers = [4, 8, 15, 16, 23, 42]\n",
        "friends = ['kevin', 'karen', 'jim', 'oscar', 'toby']\n",
        "\n",
        "friends.extend(lucky_numbers)\n",
        "print(friends)"
      ],
      "execution_count": 60,
      "outputs": [
        {
          "output_type": "stream",
          "text": [
            "['kevin', 'karen', 'jim', 'oscar', 'toby', 4, 8, 15, 16, 23, 42]\n"
          ],
          "name": "stdout"
        }
      ]
    },
    {
      "cell_type": "code",
      "metadata": {
        "colab": {
          "base_uri": "https://localhost:8080/"
        },
        "id": "rG4NpTZL4ssY",
        "outputId": "174d4f76-d247-4bff-8cb9-5468d6b50458"
      },
      "source": [
        "friends"
      ],
      "execution_count": 61,
      "outputs": [
        {
          "output_type": "execute_result",
          "data": {
            "text/plain": [
              "['kevin', 'karen', 'jim', 'oscar', 'toby', 4, 8, 15, 16, 23, 42]"
            ]
          },
          "metadata": {
            "tags": []
          },
          "execution_count": 61
        }
      ]
    },
    {
      "cell_type": "code",
      "metadata": {
        "id": "cL4j7QMU40Ax"
      },
      "source": [
        "friends.append('creed')"
      ],
      "execution_count": 62,
      "outputs": []
    },
    {
      "cell_type": "code",
      "metadata": {
        "colab": {
          "base_uri": "https://localhost:8080/"
        },
        "id": "U9SDsxCW489p",
        "outputId": "ef19ab40-aeb1-4781-d0a0-97167f6c59ae"
      },
      "source": [
        "friends"
      ],
      "execution_count": 63,
      "outputs": [
        {
          "output_type": "execute_result",
          "data": {
            "text/plain": [
              "['kevin', 'karen', 'jim', 'oscar', 'toby', 4, 8, 15, 16, 23, 42, 'creed']"
            ]
          },
          "metadata": {
            "tags": []
          },
          "execution_count": 63
        }
      ]
    },
    {
      "cell_type": "code",
      "metadata": {
        "id": "7kv_RB-r5ByA"
      },
      "source": [
        "friends.insert(1, 'kelly') # to insert value at any index"
      ],
      "execution_count": 64,
      "outputs": []
    },
    {
      "cell_type": "code",
      "metadata": {
        "id": "3UwnB8595Pk7"
      },
      "source": [
        "friends.remove('jim')"
      ],
      "execution_count": 65,
      "outputs": []
    },
    {
      "cell_type": "code",
      "metadata": {
        "colab": {
          "base_uri": "https://localhost:8080/"
        },
        "id": "azq8Dqt_5UE6",
        "outputId": "96197f24-7ad1-4ca7-eb06-dae106b83642"
      },
      "source": [
        "print(friends)"
      ],
      "execution_count": 66,
      "outputs": [
        {
          "output_type": "stream",
          "text": [
            "['kevin', 'kelly', 'karen', 'oscar', 'toby', 4, 8, 15, 16, 23, 42, 'creed']\n"
          ],
          "name": "stdout"
        }
      ]
    },
    {
      "cell_type": "code",
      "metadata": {
        "id": "WS6pEULl5V3L"
      },
      "source": [
        "# friends.clear() # clear will empty the list"
      ],
      "execution_count": 67,
      "outputs": []
    },
    {
      "cell_type": "code",
      "metadata": {
        "colab": {
          "base_uri": "https://localhost:8080/",
          "height": 35
        },
        "id": "fXEj5XJJ5klt",
        "outputId": "2339de12-2001-4442-a6ee-9b773257dad4"
      },
      "source": [
        "friends.pop() # pop will remove the last  index number"
      ],
      "execution_count": 68,
      "outputs": [
        {
          "output_type": "execute_result",
          "data": {
            "application/vnd.google.colaboratory.intrinsic+json": {
              "type": "string"
            },
            "text/plain": [
              "'creed'"
            ]
          },
          "metadata": {
            "tags": []
          },
          "execution_count": 68
        }
      ]
    },
    {
      "cell_type": "code",
      "metadata": {
        "colab": {
          "base_uri": "https://localhost:8080/"
        },
        "id": "Sb2k6hat5uD7",
        "outputId": "5d552ff4-714f-4ec7-ecc0-bbadbb6d4a33"
      },
      "source": [
        "print(friends)"
      ],
      "execution_count": 69,
      "outputs": [
        {
          "output_type": "stream",
          "text": [
            "['kevin', 'kelly', 'karen', 'oscar', 'toby', 4, 8, 15, 16, 23, 42]\n"
          ],
          "name": "stdout"
        }
      ]
    },
    {
      "cell_type": "code",
      "metadata": {
        "colab": {
          "base_uri": "https://localhost:8080/"
        },
        "id": "BEEyegaH50kv",
        "outputId": "7c592b1f-96b2-4449-f462-abfecdc1d599"
      },
      "source": [
        "print(friends.index('kevin'))"
      ],
      "execution_count": 70,
      "outputs": [
        {
          "output_type": "stream",
          "text": [
            "0\n"
          ],
          "name": "stdout"
        }
      ]
    },
    {
      "cell_type": "code",
      "metadata": {
        "colab": {
          "base_uri": "https://localhost:8080/"
        },
        "id": "OSoiogxc677N",
        "outputId": "6ca5bb95-e2e2-4293-eba2-29faecf45fd1"
      },
      "source": [
        "friends"
      ],
      "execution_count": 71,
      "outputs": [
        {
          "output_type": "execute_result",
          "data": {
            "text/plain": [
              "['kevin', 'kelly', 'karen', 'oscar', 'toby', 4, 8, 15, 16, 23, 42]"
            ]
          },
          "metadata": {
            "tags": []
          },
          "execution_count": 71
        }
      ]
    },
    {
      "cell_type": "code",
      "metadata": {
        "colab": {
          "base_uri": "https://localhost:8080/"
        },
        "id": "eyV8CAx57DDT",
        "outputId": "c47d8b01-1189-40a1-91a1-658287a9b821"
      },
      "source": [
        "print(friends.index(16))"
      ],
      "execution_count": 72,
      "outputs": [
        {
          "output_type": "stream",
          "text": [
            "8\n"
          ],
          "name": "stdout"
        }
      ]
    },
    {
      "cell_type": "code",
      "metadata": {
        "colab": {
          "base_uri": "https://localhost:8080/"
        },
        "id": "aYr4a6El7MmW",
        "outputId": "70aa5b42-016d-4da2-9b5d-724de3aed554"
      },
      "source": [
        "friends"
      ],
      "execution_count": 73,
      "outputs": [
        {
          "output_type": "execute_result",
          "data": {
            "text/plain": [
              "['kevin', 'kelly', 'karen', 'oscar', 'toby', 4, 8, 15, 16, 23, 42]"
            ]
          },
          "metadata": {
            "tags": []
          },
          "execution_count": 73
        }
      ]
    },
    {
      "cell_type": "code",
      "metadata": {
        "colab": {
          "base_uri": "https://localhost:8080/"
        },
        "id": "4tmnc2rx7XQO",
        "outputId": "a3bb115a-f32e-4d05-80c7-7005eb25b590"
      },
      "source": [
        "print(friends.index('kevin'))"
      ],
      "execution_count": 74,
      "outputs": [
        {
          "output_type": "stream",
          "text": [
            "0\n"
          ],
          "name": "stdout"
        }
      ]
    },
    {
      "cell_type": "code",
      "metadata": {
        "colab": {
          "base_uri": "https://localhost:8080/"
        },
        "id": "vMWgjyN27Zpb",
        "outputId": "daf8d593-728d-450c-9b96-4af43b5aba72"
      },
      "source": [
        "print(friends.count('oscar'))"
      ],
      "execution_count": 75,
      "outputs": [
        {
          "output_type": "stream",
          "text": [
            "1\n"
          ],
          "name": "stdout"
        }
      ]
    },
    {
      "cell_type": "code",
      "metadata": {
        "colab": {
          "base_uri": "https://localhost:8080/"
        },
        "id": "WO9I3NEh7riT",
        "outputId": "6bceb2f7-7763-40ed-c231-443b35e73166"
      },
      "source": [
        "friends"
      ],
      "execution_count": 76,
      "outputs": [
        {
          "output_type": "execute_result",
          "data": {
            "text/plain": [
              "['kevin', 'kelly', 'karen', 'oscar', 'toby', 4, 8, 15, 16, 23, 42]"
            ]
          },
          "metadata": {
            "tags": []
          },
          "execution_count": 76
        }
      ]
    },
    {
      "cell_type": "code",
      "metadata": {
        "colab": {
          "base_uri": "https://localhost:8080/"
        },
        "id": "BY-VgDs87_tS",
        "outputId": "efe23e72-b4e2-49e7-ff07-aedb0f5a7dff"
      },
      "source": [
        "friends.pop()"
      ],
      "execution_count": 77,
      "outputs": [
        {
          "output_type": "execute_result",
          "data": {
            "text/plain": [
              "42"
            ]
          },
          "metadata": {
            "tags": []
          },
          "execution_count": 77
        }
      ]
    },
    {
      "cell_type": "code",
      "metadata": {
        "colab": {
          "base_uri": "https://localhost:8080/"
        },
        "id": "rbNaV64W8LA5",
        "outputId": "adc26f03-1235-40e1-c0ff-d5248138d2c6"
      },
      "source": [
        "friends"
      ],
      "execution_count": 78,
      "outputs": [
        {
          "output_type": "execute_result",
          "data": {
            "text/plain": [
              "['kevin', 'kelly', 'karen', 'oscar', 'toby', 4, 8, 15, 16, 23]"
            ]
          },
          "metadata": {
            "tags": []
          },
          "execution_count": 78
        }
      ]
    },
    {
      "cell_type": "code",
      "metadata": {
        "colab": {
          "base_uri": "https://localhost:8080/"
        },
        "id": "Y-CTQVnq8Uzo",
        "outputId": "4d17f606-5167-405b-b775-ca39c05a4c22"
      },
      "source": [
        "lucky_numbers.sort()\n",
        "print(lucky_numbers)"
      ],
      "execution_count": 80,
      "outputs": [
        {
          "output_type": "stream",
          "text": [
            "[4, 8, 15, 16, 23, 42]\n"
          ],
          "name": "stdout"
        }
      ]
    },
    {
      "cell_type": "code",
      "metadata": {
        "id": "EdclEQa68hoa"
      },
      "source": [
        "lucky_numbers.reverse()"
      ],
      "execution_count": 82,
      "outputs": []
    },
    {
      "cell_type": "code",
      "metadata": {
        "colab": {
          "base_uri": "https://localhost:8080/"
        },
        "id": "LrCrIDL38log",
        "outputId": "92efce4c-e033-472f-88c9-fb1f99c89295"
      },
      "source": [
        "print(lucky_numbers)"
      ],
      "execution_count": 83,
      "outputs": [
        {
          "output_type": "stream",
          "text": [
            "[4, 8, 15, 16, 23, 42]\n"
          ],
          "name": "stdout"
        }
      ]
    },
    {
      "cell_type": "code",
      "metadata": {
        "id": "8ZXVA8Ct8pKi"
      },
      "source": [
        "friends2 = friends.copy"
      ],
      "execution_count": 84,
      "outputs": []
    },
    {
      "cell_type": "code",
      "metadata": {
        "colab": {
          "base_uri": "https://localhost:8080/"
        },
        "id": "P7BJ8kZ18vLq",
        "outputId": "20f3fb7e-76d0-4134-8161-0102d437058f"
      },
      "source": [
        "friends2()"
      ],
      "execution_count": 85,
      "outputs": [
        {
          "output_type": "execute_result",
          "data": {
            "text/plain": [
              "['karen', 'kelly', 'kevin', 'oscar', 'toby', 4, 8, 15, 16, 23]"
            ]
          },
          "metadata": {
            "tags": []
          },
          "execution_count": 85
        }
      ]
    },
    {
      "cell_type": "code",
      "metadata": {
        "colab": {
          "base_uri": "https://localhost:8080/"
        },
        "id": "fcYuaXmA8wpU",
        "outputId": "4a2505bd-b885-48dc-bb32-fb59d2e492d8"
      },
      "source": [
        "friends"
      ],
      "execution_count": 86,
      "outputs": [
        {
          "output_type": "execute_result",
          "data": {
            "text/plain": [
              "['karen', 'kelly', 'kevin', 'oscar', 'toby', 4, 8, 15, 16, 23]"
            ]
          },
          "metadata": {
            "tags": []
          },
          "execution_count": 86
        }
      ]
    },
    {
      "cell_type": "code",
      "metadata": {
        "colab": {
          "base_uri": "https://localhost:8080/"
        },
        "id": "yOZqD01g82H3",
        "outputId": "948f875f-7aa7-48ac-c794-233dfb1e3419"
      },
      "source": [
        "friends2"
      ],
      "execution_count": 87,
      "outputs": [
        {
          "output_type": "execute_result",
          "data": {
            "text/plain": [
              "<function list.copy>"
            ]
          },
          "metadata": {
            "tags": []
          },
          "execution_count": 87
        }
      ]
    },
    {
      "cell_type": "code",
      "metadata": {
        "colab": {
          "base_uri": "https://localhost:8080/"
        },
        "id": "sV0NbpUj86R7",
        "outputId": "87aa710c-202f-4365-d0ab-3330501cf307"
      },
      "source": [
        "print(friends2)"
      ],
      "execution_count": 88,
      "outputs": [
        {
          "output_type": "stream",
          "text": [
            "<built-in method copy of list object at 0x7f94d12e1910>\n"
          ],
          "name": "stdout"
        }
      ]
    },
    {
      "cell_type": "code",
      "metadata": {
        "colab": {
          "base_uri": "https://localhost:8080/"
        },
        "id": "bXzSL2Zl887P",
        "outputId": "7e6fe17b-eb91-4237-9c37-ccd38f95b765"
      },
      "source": [
        "\n",
        "friends2 = friends.copy()\n",
        "print(friends2)"
      ],
      "execution_count": 89,
      "outputs": [
        {
          "output_type": "stream",
          "text": [
            "['karen', 'kelly', 'kevin', 'oscar', 'toby', 4, 8, 15, 16, 23]\n"
          ],
          "name": "stdout"
        }
      ]
    },
    {
      "cell_type": "markdown",
      "metadata": {
        "id": "ehAck-1J9SZz"
      },
      "source": [
        "#Tuples"
      ]
    },
    {
      "cell_type": "code",
      "metadata": {
        "colab": {
          "base_uri": "https://localhost:8080/"
        },
        "id": "KkQJcWNn9I-4",
        "outputId": "3c3b86b9-41aa-4e1b-c36f-fe18e360c7bd"
      },
      "source": [
        "coordinates = (4, 5)\n",
        "print(coordinates[0])"
      ],
      "execution_count": 90,
      "outputs": [
        {
          "output_type": "stream",
          "text": [
            "4\n"
          ],
          "name": "stdout"
        }
      ]
    },
    {
      "cell_type": "code",
      "metadata": {
        "colab": {
          "base_uri": "https://localhost:8080/"
        },
        "id": "erCdG4fO-1JG",
        "outputId": "f6d44b7b-2ba7-417c-9fb8-5720fb34406a"
      },
      "source": [
        "print(coordinates[1])"
      ],
      "execution_count": 91,
      "outputs": [
        {
          "output_type": "stream",
          "text": [
            "5\n"
          ],
          "name": "stdout"
        }
      ]
    },
    {
      "cell_type": "code",
      "metadata": {
        "colab": {
          "base_uri": "https://localhost:8080/",
          "height": 162
        },
        "id": "ghzgXHy7_GJJ",
        "outputId": "410f4cd1-1863-4b16-ae7d-4d9b157ef970"
      },
      "source": [
        "coordinates[0] =1 # since it is tuple, it  is immutable"
      ],
      "execution_count": 92,
      "outputs": [
        {
          "output_type": "error",
          "ename": "TypeError",
          "evalue": "ignored",
          "traceback": [
            "\u001b[0;31m---------------------------------------------------------------------------\u001b[0m",
            "\u001b[0;31mTypeError\u001b[0m                                 Traceback (most recent call last)",
            "\u001b[0;32m<ipython-input-92-8ec92811c516>\u001b[0m in \u001b[0;36m<module>\u001b[0;34m()\u001b[0m\n\u001b[0;32m----> 1\u001b[0;31m \u001b[0mcoordinates\u001b[0m\u001b[0;34m[\u001b[0m\u001b[0;36m0\u001b[0m\u001b[0;34m]\u001b[0m \u001b[0;34m=\u001b[0m\u001b[0;36m1\u001b[0m \u001b[0;31m# since it is tuple, it  is immutable\u001b[0m\u001b[0;34m\u001b[0m\u001b[0;34m\u001b[0m\u001b[0m\n\u001b[0m",
            "\u001b[0;31mTypeError\u001b[0m: 'tuple' object does not support item assignment"
          ]
        }
      ]
    },
    {
      "cell_type": "code",
      "metadata": {
        "id": "QygfJ-1H_Yia"
      },
      "source": [
        "coordinates = [(4, 5), (6, 7), (80, 90)]"
      ],
      "execution_count": 93,
      "outputs": []
    },
    {
      "cell_type": "markdown",
      "metadata": {
        "id": "pVhb688u_5_e"
      },
      "source": [
        "#Functions"
      ]
    },
    {
      "cell_type": "code",
      "metadata": {
        "id": "yS45RzQB_3_F"
      },
      "source": [
        "def sayhi():\n",
        "  print('hello user')"
      ],
      "execution_count": 94,
      "outputs": []
    },
    {
      "cell_type": "code",
      "metadata": {
        "colab": {
          "base_uri": "https://localhost:8080/"
        },
        "id": "04q83qcbCV0Q",
        "outputId": "4fadeed3-98af-450a-8828-56ab7f7f87f8"
      },
      "source": [
        "print(sayhi())"
      ],
      "execution_count": 95,
      "outputs": [
        {
          "output_type": "stream",
          "text": [
            "hello user\n",
            "None\n"
          ],
          "name": "stdout"
        }
      ]
    },
    {
      "cell_type": "code",
      "metadata": {
        "colab": {
          "base_uri": "https://localhost:8080/"
        },
        "id": "xAalCg9mCYU-",
        "outputId": "4e31e3d7-4142-4607-dfca-b6dade56c56d"
      },
      "source": [
        "sayhi()"
      ],
      "execution_count": 96,
      "outputs": [
        {
          "output_type": "stream",
          "text": [
            "hello user\n"
          ],
          "name": "stdout"
        }
      ]
    },
    {
      "cell_type": "code",
      "metadata": {
        "colab": {
          "base_uri": "https://localhost:8080/"
        },
        "id": "8baH_nf_Cc0t",
        "outputId": "47651097-3d74-419b-e8dc-71227fb639d4"
      },
      "source": [
        "print ('top')\n",
        "sayhi()\n",
        "print('bottom')"
      ],
      "execution_count": 97,
      "outputs": [
        {
          "output_type": "stream",
          "text": [
            "top\n",
            "hello user\n",
            "bottom\n"
          ],
          "name": "stdout"
        }
      ]
    },
    {
      "cell_type": "code",
      "metadata": {
        "colab": {
          "base_uri": "https://localhost:8080/"
        },
        "id": "WE9oZZ-sCtw7",
        "outputId": "29d34069-759a-463f-9786-5788d4367fea"
      },
      "source": [
        "def sayhi(name):\n",
        "  print('hello ' + name)\n",
        "\n",
        "sayhi('suleman')"
      ],
      "execution_count": 98,
      "outputs": [
        {
          "output_type": "stream",
          "text": [
            "hello suleman\n"
          ],
          "name": "stdout"
        }
      ]
    },
    {
      "cell_type": "code",
      "metadata": {
        "colab": {
          "base_uri": "https://localhost:8080/"
        },
        "id": "LQdYd8EaDafp",
        "outputId": "d610c083-f176-41f3-933b-73ff72b02757"
      },
      "source": [
        "def sayhi(name, age):\n",
        "  print('hello ' + name + 'you are ' + age)\n",
        "\n",
        "sayhi('Suleman ', '28')\n",
        "sayhi('Jibran ', '22')"
      ],
      "execution_count": 99,
      "outputs": [
        {
          "output_type": "stream",
          "text": [
            "hello Suleman you are 28\n",
            "hello Jibran you are 22\n"
          ],
          "name": "stdout"
        }
      ]
    },
    {
      "cell_type": "markdown",
      "metadata": {
        "id": "enIJAMIjHDnL"
      },
      "source": [
        "# Return Statement"
      ]
    },
    {
      "cell_type": "code",
      "metadata": {
        "id": "KIq-9-elEKHg",
        "colab": {
          "base_uri": "https://localhost:8080/"
        },
        "outputId": "138618ab-4926-4c07-c0d2-8ba80ce47074"
      },
      "source": [
        "2 ** 3"
      ],
      "execution_count": 100,
      "outputs": [
        {
          "output_type": "execute_result",
          "data": {
            "text/plain": [
              "8"
            ]
          },
          "metadata": {
            "tags": []
          },
          "execution_count": 100
        }
      ]
    },
    {
      "cell_type": "code",
      "metadata": {
        "colab": {
          "base_uri": "https://localhost:8080/"
        },
        "id": "JvvmbTqJHbFC",
        "outputId": "f4a6699c-6021-4567-cacf-6a88b8c462ff"
      },
      "source": [
        "def cube(num):\n",
        "  return num * num * num\n",
        "\n",
        "cube(3)"
      ],
      "execution_count": 101,
      "outputs": [
        {
          "output_type": "execute_result",
          "data": {
            "text/plain": [
              "27"
            ]
          },
          "metadata": {
            "tags": []
          },
          "execution_count": 101
        }
      ]
    },
    {
      "cell_type": "code",
      "metadata": {
        "colab": {
          "base_uri": "https://localhost:8080/"
        },
        "id": "B00cN2XAHrXv",
        "outputId": "628a5e95-f9ce-4891-8481-87ed239c6209"
      },
      "source": [
        "print(cube(3))"
      ],
      "execution_count": 102,
      "outputs": [
        {
          "output_type": "stream",
          "text": [
            "27\n"
          ],
          "name": "stdout"
        }
      ]
    },
    {
      "cell_type": "code",
      "metadata": {
        "colab": {
          "base_uri": "https://localhost:8080/"
        },
        "id": "__5krulwHzvn",
        "outputId": "a11376bb-d544-4331-8bfe-14270e57572a"
      },
      "source": [
        "result = cube(4)\n",
        "print(result)"
      ],
      "execution_count": 103,
      "outputs": [
        {
          "output_type": "stream",
          "text": [
            "64\n"
          ],
          "name": "stdout"
        }
      ]
    },
    {
      "cell_type": "code",
      "metadata": {
        "colab": {
          "base_uri": "https://localhost:8080/"
        },
        "id": "Lytna6xRIQ82",
        "outputId": "75aa2dfa-db8a-4e14-9a94-f3c606cd2b09"
      },
      "source": [
        "\n",
        "\n",
        "def cube(num):\n",
        "  print(num * num * num)\n",
        "  return 0\n",
        "\n",
        "cube(3)"
      ],
      "execution_count": 104,
      "outputs": [
        {
          "output_type": "stream",
          "text": [
            "27\n"
          ],
          "name": "stdout"
        },
        {
          "output_type": "execute_result",
          "data": {
            "text/plain": [
              "0"
            ]
          },
          "metadata": {
            "tags": []
          },
          "execution_count": 104
        }
      ]
    },
    {
      "cell_type": "code",
      "metadata": {
        "colab": {
          "base_uri": "https://localhost:8080/"
        },
        "id": "f1OoasXZInc-",
        "outputId": "4a02d106-ced7-46d5-f9f5-53daafa1bdf8"
      },
      "source": [
        "print(cube(3))"
      ],
      "execution_count": 105,
      "outputs": [
        {
          "output_type": "stream",
          "text": [
            "27\n",
            "0\n"
          ],
          "name": "stdout"
        }
      ]
    },
    {
      "cell_type": "markdown",
      "metadata": {
        "id": "zsa1j-QAI9Co"
      },
      "source": [
        "# If Statements"
      ]
    },
    {
      "cell_type": "code",
      "metadata": {
        "colab": {
          "base_uri": "https://localhost:8080/"
        },
        "id": "5S2yQPM0ItiB",
        "outputId": "8a682c35-f893-4da4-a232-c942dffaab99"
      },
      "source": [
        "is_male = True\n",
        "\n",
        "if is_male:\n",
        "  print('you are a male')"
      ],
      "execution_count": 106,
      "outputs": [
        {
          "output_type": "stream",
          "text": [
            "you are a male\n"
          ],
          "name": "stdout"
        }
      ]
    },
    {
      "cell_type": "code",
      "metadata": {
        "id": "UqygDHmeKQb3"
      },
      "source": [
        "is_male = False\n",
        "\n",
        "if is_male:\n",
        "  print('you are a male')"
      ],
      "execution_count": 107,
      "outputs": []
    },
    {
      "cell_type": "code",
      "metadata": {
        "colab": {
          "base_uri": "https://localhost:8080/"
        },
        "id": "ZQd8sPk4KXD4",
        "outputId": "3ef29329-54e9-4a14-fd41-2bd6376c90c6"
      },
      "source": [
        "is_male = False\n",
        "is_tall = False\n",
        "\n",
        "if is_male and is_tall:\n",
        "  print('you are a tall male')\n",
        "elif is_male and not(is_tall):\n",
        "  print('you are a short male')\n",
        "elif not(is_male) and  is_tall:\n",
        "  print('you are not a male but are tall')\n",
        "else:\n",
        "  print('you are niether a male nor a tall')"
      ],
      "execution_count": 108,
      "outputs": [
        {
          "output_type": "stream",
          "text": [
            "you are niether a male nor a tall\n"
          ],
          "name": "stdout"
        }
      ]
    },
    {
      "cell_type": "markdown",
      "metadata": {
        "id": "1cxCXuRmNOQN"
      },
      "source": [
        "# If statements & Comparisons"
      ]
    },
    {
      "cell_type": "code",
      "metadata": {
        "colab": {
          "base_uri": "https://localhost:8080/"
        },
        "id": "N2VTPLQMKnrs",
        "outputId": "29f6f6aa-ca6a-43b6-99b2-74e65ce802e0"
      },
      "source": [
        " def max_num(num1, num2, num3):\n",
        "   if num1 >= num2 and num1 >= num3:\n",
        "     return num1\n",
        "   elif num2 >= num1 and num2 >= num3:\n",
        "     return num2\n",
        "   else:\n",
        "     return num3\n",
        "\n",
        "print(max_num(3, 4, 5))"
      ],
      "execution_count": 109,
      "outputs": [
        {
          "output_type": "stream",
          "text": [
            "5\n"
          ],
          "name": "stdout"
        }
      ]
    },
    {
      "cell_type": "markdown",
      "metadata": {
        "id": "cN42FlYnP4cJ"
      },
      "source": [
        "#Building a Better Calculator"
      ]
    },
    {
      "cell_type": "code",
      "metadata": {
        "id": "bvJ7HhwxPHRi",
        "colab": {
          "base_uri": "https://localhost:8080/"
        },
        "outputId": "28d88762-78c0-48c8-bc21-deaa91c92779"
      },
      "source": [
        "num1 = float(input('Enter first number: '))\n",
        "op = input('Enter operator: ')\n",
        "num2 = float(input('Enter second number: '))\n",
        "\n",
        "if op == '+':\n",
        "  print(num1 + num2)\n",
        "elif op == '-':\n",
        "  print(num1 - num2)\n",
        "elif op == '/':\n",
        "  print(num1 / num2)\n",
        "elif op == '*':\n",
        "  print(num1 * num2)\n",
        "else:\n",
        "  print('invalid operator')\n"
      ],
      "execution_count": 110,
      "outputs": [
        {
          "output_type": "stream",
          "text": [
            "Enter first number: 8687\n",
            "Enter operator: /\n",
            "Enter second number: 557\n",
            "15.59605026929982\n"
          ],
          "name": "stdout"
        }
      ]
    },
    {
      "cell_type": "code",
      "metadata": {
        "colab": {
          "base_uri": "https://localhost:8080/"
        },
        "id": "H0Re60_qG0r7",
        "outputId": "2990c8d0-a393-4ff6-b4dc-29452f294bab"
      },
      "source": [
        "num1 = float(input('Enter first number: '))\n",
        "op = input('Enter operator: ')\n",
        "num2 = float(input('Enter second number: '))\n",
        "\n",
        "if op == '+':\n",
        "  print(num1 + num2)\n",
        "elif op == '-':\n",
        "  print(num1 - num2)\n",
        "elif op == '/':\n",
        "  print(num1 / num2)\n",
        "elif op == '*':\n",
        "  print(num1 * num2)\n",
        "else:\n",
        "  print('invalid operator')\n"
      ],
      "execution_count": 111,
      "outputs": [
        {
          "output_type": "stream",
          "text": [
            "Enter first number: 3\n",
            "Enter operator: +\n",
            "Enter second number: 455454\n",
            "455457.0\n"
          ],
          "name": "stdout"
        }
      ]
    },
    {
      "cell_type": "markdown",
      "metadata": {
        "id": "wTnGLjr9IFC8"
      },
      "source": [
        "#Dictionaries"
      ]
    },
    {
      "cell_type": "code",
      "metadata": {
        "id": "JRvHIHz_HzS7"
      },
      "source": [
        "monthconversions = {\n",
        "    'jan': 'january',\n",
        "    'feb': 'feburary',\n",
        "    'march': 'march'\n",
        "}"
      ],
      "execution_count": 112,
      "outputs": []
    },
    {
      "cell_type": "code",
      "metadata": {
        "colab": {
          "base_uri": "https://localhost:8080/"
        },
        "id": "GJED4kniJAAY",
        "outputId": "2b7eee04-1635-4290-e9a5-8c51ede9a212"
      },
      "source": [
        "monthconversions"
      ],
      "execution_count": 113,
      "outputs": [
        {
          "output_type": "execute_result",
          "data": {
            "text/plain": [
              "{'feb': 'feburary', 'jan': 'january', 'march': 'march'}"
            ]
          },
          "metadata": {
            "tags": []
          },
          "execution_count": 113
        }
      ]
    },
    {
      "cell_type": "code",
      "metadata": {
        "id": "Sy34Bq7YJEXS"
      },
      "source": [
        "monthconversions = {\n",
        "    'jan': 'january',\n",
        "    'feb': 'feburary',\n",
        "    'march': 'march',\n",
        "}"
      ],
      "execution_count": 114,
      "outputs": []
    },
    {
      "cell_type": "code",
      "metadata": {
        "colab": {
          "base_uri": "https://localhost:8080/"
        },
        "id": "dQfqxRUEJIIe",
        "outputId": "45be00f4-2279-4e1e-ba38-004b25d76506"
      },
      "source": [
        "monthconversions"
      ],
      "execution_count": 115,
      "outputs": [
        {
          "output_type": "execute_result",
          "data": {
            "text/plain": [
              "{'feb': 'feburary', 'jan': 'january', 'march': 'march'}"
            ]
          },
          "metadata": {
            "tags": []
          },
          "execution_count": 115
        }
      ]
    },
    {
      "cell_type": "code",
      "metadata": {
        "colab": {
          "base_uri": "https://localhost:8080/"
        },
        "id": "OKQTEOSUJJ-a",
        "outputId": "01166ad3-196f-4974-e7fc-8f8bad30f06e"
      },
      "source": [
        "print(monthconversions )"
      ],
      "execution_count": 116,
      "outputs": [
        {
          "output_type": "stream",
          "text": [
            "{'jan': 'january', 'feb': 'feburary', 'march': 'march'}\n"
          ],
          "name": "stdout"
        }
      ]
    },
    {
      "cell_type": "code",
      "metadata": {
        "colab": {
          "base_uri": "https://localhost:8080/"
        },
        "id": "SitLrbp4JTbj",
        "outputId": "6ec43ec2-c8ff-4ced-a3d3-03c870a6e5df"
      },
      "source": [
        "print(monthconversions.get('jan') )"
      ],
      "execution_count": 117,
      "outputs": [
        {
          "output_type": "stream",
          "text": [
            "january\n"
          ],
          "name": "stdout"
        }
      ]
    },
    {
      "cell_type": "code",
      "metadata": {
        "colab": {
          "base_uri": "https://localhost:8080/"
        },
        "id": "XF1528o5JYd3",
        "outputId": "7fb0327e-cd17-4078-9959-8ad826b31847"
      },
      "source": [
        "print(monthconversions.get('love') )"
      ],
      "execution_count": 118,
      "outputs": [
        {
          "output_type": "stream",
          "text": [
            "None\n"
          ],
          "name": "stdout"
        }
      ]
    },
    {
      "cell_type": "code",
      "metadata": {
        "colab": {
          "base_uri": "https://localhost:8080/"
        },
        "id": "ELwOUsCwJ31l",
        "outputId": "9217e35f-302b-4172-fbe4-2c9a722dc53c"
      },
      "source": [
        "print(monthconversions.get('love', 'not a valid key ') )"
      ],
      "execution_count": 119,
      "outputs": [
        {
          "output_type": "stream",
          "text": [
            "not a valid key \n"
          ],
          "name": "stdout"
        }
      ]
    },
    {
      "cell_type": "markdown",
      "metadata": {
        "id": "4TVPTDqdKTem"
      },
      "source": [
        "#while loop"
      ]
    },
    {
      "cell_type": "code",
      "metadata": {
        "colab": {
          "base_uri": "https://localhost:8080/"
        },
        "id": "GQPeReVxJ8bf",
        "outputId": "6fc6055d-c786-4af3-9810-4cb5d20ac1e3"
      },
      "source": [
        "i = 1\n",
        "\n",
        "while i <= 10:\n",
        "  print(i)\n",
        "  i = i + 1\n",
        "\n",
        "print('done with loop')"
      ],
      "execution_count": 120,
      "outputs": [
        {
          "output_type": "stream",
          "text": [
            "1\n",
            "2\n",
            "3\n",
            "4\n",
            "5\n",
            "6\n",
            "7\n",
            "8\n",
            "9\n",
            "10\n",
            "done with loop\n"
          ],
          "name": "stdout"
        }
      ]
    },
    {
      "cell_type": "code",
      "metadata": {
        "colab": {
          "base_uri": "https://localhost:8080/"
        },
        "id": "OvLjOSy8ONr7",
        "outputId": "6fbd109f-32e5-4cec-dbc7-ad9899f37686"
      },
      "source": [
        "i = 1\n",
        "\n",
        "while i <= 10:\n",
        "  print(i, end =' ' )\n",
        "  i = i + 1\n",
        "\n",
        "print('done with loop')"
      ],
      "execution_count": 121,
      "outputs": [
        {
          "output_type": "stream",
          "text": [
            "1 2 3 4 5 6 7 8 9 10 done with loop\n"
          ],
          "name": "stdout"
        }
      ]
    },
    {
      "cell_type": "code",
      "metadata": {
        "colab": {
          "base_uri": "https://localhost:8080/"
        },
        "id": "tMW5NclTOpWP",
        "outputId": "bd149015-f0fb-440c-a5c4-3fdcc5f9fe7d"
      },
      "source": [
        "i = 1\n",
        "\n",
        "while i <= 10:\n",
        "  print(i, end =' ' )\n",
        "  i = i + 1\n",
        "\n",
        "print('\\n','done with loop')"
      ],
      "execution_count": 122,
      "outputs": [
        {
          "output_type": "stream",
          "text": [
            "1 2 3 4 5 6 7 8 9 10 \n",
            " done with loop\n"
          ],
          "name": "stdout"
        }
      ]
    },
    {
      "cell_type": "markdown",
      "metadata": {
        "id": "GF6edAXZQcSw"
      },
      "source": [
        "#Building a Guessing Game"
      ]
    },
    {
      "cell_type": "code",
      "metadata": {
        "colab": {
          "base_uri": "https://localhost:8080/"
        },
        "id": "lgRZoysHPJCU",
        "outputId": "45f688d0-e148-4f92-f622-653f72d5a0e0"
      },
      "source": [
        "secret_word = 'giraffe'\n",
        "guess = ''\n",
        "\n",
        "while guess != secret_word:\n",
        "  guess = input('Enter guess: ')\n",
        "\n",
        "print('you win')\n"
      ],
      "execution_count": 124,
      "outputs": [
        {
          "output_type": "stream",
          "text": [
            "Enter guess: giraffe\n",
            "you win\n"
          ],
          "name": "stdout"
        }
      ]
    },
    {
      "cell_type": "code",
      "metadata": {
        "colab": {
          "base_uri": "https://localhost:8080/"
        },
        "id": "s3XjCAGmRo6_",
        "outputId": "76f21514-121a-4146-ede6-622f2aacf2f4"
      },
      "source": [
        "secret_word = 'giraffe'\n",
        "guess = ''\n",
        "guess_count = 0\n",
        "guess_limit =3\n",
        "out_of_guesses = False\n",
        "\n",
        "while guess != secret_word and not(out_of_guesses):\n",
        "  if guess_count < guess_limit:\n",
        "    guess = input('Enter guess: ')\n",
        "    guess_count += 1\n",
        "  else:\n",
        "    out_of_guesses = True\n",
        "\n",
        "if out_of_guesses:\n",
        "  print('out of guesses, You lost the game')\n",
        "else:\n",
        "  print('you win!')\n"
      ],
      "execution_count": 125,
      "outputs": [
        {
          "output_type": "stream",
          "text": [
            "Enter guess: giraffe\n",
            "you win!\n"
          ],
          "name": "stdout"
        }
      ]
    },
    {
      "cell_type": "code",
      "metadata": {
        "colab": {
          "base_uri": "https://localhost:8080/"
        },
        "id": "S4rCd7ZhTu9r",
        "outputId": "202032e9-7d91-4ff5-ec25-da432807a863"
      },
      "source": [
        "secret_word = 'giraffe'\n",
        "guess = ''\n",
        "guess_count = 0\n",
        "guess_limit =3\n",
        "out_of_guesses = False\n",
        "\n",
        "while guess != secret_word and not(out_of_guesses):\n",
        "  if guess_count < guess_limit:\n",
        "    guess = input('Enter guess: ')\n",
        "    guess_count += 1\n",
        "  else:\n",
        "    out_of_guesses = True\n",
        "\n",
        "if out_of_guesses:\n",
        "  print('out of guesses, You lost the game')\n",
        "else:\n",
        "  print('you win!')\n"
      ],
      "execution_count": 126,
      "outputs": [
        {
          "output_type": "stream",
          "text": [
            "Enter guess: giraffe\n",
            "you win!\n"
          ],
          "name": "stdout"
        }
      ]
    },
    {
      "cell_type": "markdown",
      "metadata": {
        "id": "pXMJMhuHUk0T"
      },
      "source": [
        "# For Loop"
      ]
    },
    {
      "cell_type": "code",
      "metadata": {
        "colab": {
          "base_uri": "https://localhost:8080/"
        },
        "id": "KfTUekeNT2FR",
        "outputId": "8a4a3350-1721-49de-cdfa-73a20045e1a1"
      },
      "source": [
        "for letter in 'giraffe academy':\n",
        "  print(letter)"
      ],
      "execution_count": 127,
      "outputs": [
        {
          "output_type": "stream",
          "text": [
            "g\n",
            "i\n",
            "r\n",
            "a\n",
            "f\n",
            "f\n",
            "e\n",
            " \n",
            "a\n",
            "c\n",
            "a\n",
            "d\n",
            "e\n",
            "m\n",
            "y\n"
          ],
          "name": "stdout"
        }
      ]
    },
    {
      "cell_type": "markdown",
      "metadata": {
        "id": "E0ISdxflXKlr"
      },
      "source": [
        "#Exponent Function"
      ]
    },
    {
      "cell_type": "code",
      "metadata": {
        "colab": {
          "base_uri": "https://localhost:8080/"
        },
        "id": "M7gzr1g-VIHJ",
        "outputId": "3a1d3eda-52fe-4d3d-a2c9-862342250476"
      },
      "source": [
        "print(2**3)"
      ],
      "execution_count": 128,
      "outputs": [
        {
          "output_type": "stream",
          "text": [
            "8\n"
          ],
          "name": "stdout"
        }
      ]
    },
    {
      "cell_type": "code",
      "metadata": {
        "colab": {
          "base_uri": "https://localhost:8080/"
        },
        "id": "9EU0ljzrXQrf",
        "outputId": "2eeb0a7b-3598-4c21-9d48-3b6f0ebbcbce"
      },
      "source": [
        "def raise_to_power(base_number, power_number):\n",
        "  result = 1\n",
        "  for index in range(power_number):\n",
        "    result =  result * base_number\n",
        "  return result\n",
        "\n",
        "raise_to_power(3, 2)"
      ],
      "execution_count": 129,
      "outputs": [
        {
          "output_type": "execute_result",
          "data": {
            "text/plain": [
              "9"
            ]
          },
          "metadata": {
            "tags": []
          },
          "execution_count": 129
        }
      ]
    },
    {
      "cell_type": "code",
      "metadata": {
        "colab": {
          "base_uri": "https://localhost:8080/"
        },
        "id": "h9kh13z-YVK6",
        "outputId": "915aaa8d-82f9-4bfa-b9e2-8ce2b6dae522"
      },
      "source": [
        "def raise_to_power(base_number, power_number):\n",
        "  result = 1\n",
        "  for index in range(power_number):\n",
        "    result =  result * base_number\n",
        "  return result\n",
        "\n",
        "raise_to_power(1, 0)"
      ],
      "execution_count": 130,
      "outputs": [
        {
          "output_type": "execute_result",
          "data": {
            "text/plain": [
              "1"
            ]
          },
          "metadata": {
            "tags": []
          },
          "execution_count": 130
        }
      ]
    },
    {
      "cell_type": "code",
      "metadata": {
        "colab": {
          "base_uri": "https://localhost:8080/"
        },
        "id": "Wazt1R12YiaB",
        "outputId": "9d0459f0-37d6-42dd-af5d-da41efb1bd11"
      },
      "source": [
        "print(range(0))"
      ],
      "execution_count": 131,
      "outputs": [
        {
          "output_type": "stream",
          "text": [
            "range(0, 0)\n"
          ],
          "name": "stdout"
        }
      ]
    },
    {
      "cell_type": "code",
      "metadata": {
        "colab": {
          "base_uri": "https://localhost:8080/"
        },
        "id": "WIMrHCRcYt3o",
        "outputId": "daa9a048-dcbf-4440-f7db-fb0843dcf1b3"
      },
      "source": [
        "def raise_to_power(base_number, power_number):\n",
        "  result = 1\n",
        "  for index in range(power_number):\n",
        "    result =  result * base_number\n",
        "  return result\n",
        "\n",
        "raise_to_power(2, 3)"
      ],
      "execution_count": 132,
      "outputs": [
        {
          "output_type": "execute_result",
          "data": {
            "text/plain": [
              "8"
            ]
          },
          "metadata": {
            "tags": []
          },
          "execution_count": 132
        }
      ]
    },
    {
      "cell_type": "code",
      "metadata": {
        "colab": {
          "base_uri": "https://localhost:8080/"
        },
        "id": "Y-zeije2ZDl1",
        "outputId": "9adedc84-6135-43fb-d0bb-27006e7b498a"
      },
      "source": [
        "raise_to_power(0, 0) # wrong answer"
      ],
      "execution_count": 133,
      "outputs": [
        {
          "output_type": "execute_result",
          "data": {
            "text/plain": [
              "1"
            ]
          },
          "metadata": {
            "tags": []
          },
          "execution_count": 133
        }
      ]
    },
    {
      "cell_type": "markdown",
      "metadata": {
        "id": "-RfhiymyZ9yX"
      },
      "source": [
        "#2D Lists & Nested Loops"
      ]
    },
    {
      "cell_type": "code",
      "metadata": {
        "id": "iF21NHuuZVns",
        "colab": {
          "base_uri": "https://localhost:8080/"
        },
        "outputId": "bd0faed1-463d-4d65-df35-4d5690f9c51b"
      },
      "source": [
        "number_grid = [\n",
        "        [1, 2, 3],\n",
        "        [4, 5, 6],\n",
        "        [7, 8, 9],\n",
        "        [0]       \n",
        "]\n",
        "\n",
        "print(number_grid[0][0])"
      ],
      "execution_count": 134,
      "outputs": [
        {
          "output_type": "stream",
          "text": [
            "1\n"
          ],
          "name": "stdout"
        }
      ]
    },
    {
      "cell_type": "code",
      "metadata": {
        "colab": {
          "base_uri": "https://localhost:8080/"
        },
        "id": "Pmb44BTceDHU",
        "outputId": "d4ee1d7a-e64a-4f04-e8ab-846d8fa7c573"
      },
      "source": [
        "print(number_grid[2][1])"
      ],
      "execution_count": 135,
      "outputs": [
        {
          "output_type": "stream",
          "text": [
            "8\n"
          ],
          "name": "stdout"
        }
      ]
    },
    {
      "cell_type": "code",
      "metadata": {
        "colab": {
          "base_uri": "https://localhost:8080/"
        },
        "id": "On73_ahleMaE",
        "outputId": "5a70b041-46b3-44a0-96cd-c8330132a687"
      },
      "source": [
        "for row in number_grid:\n",
        "  print(row)"
      ],
      "execution_count": 136,
      "outputs": [
        {
          "output_type": "stream",
          "text": [
            "[1, 2, 3]\n",
            "[4, 5, 6]\n",
            "[7, 8, 9]\n",
            "[0]\n"
          ],
          "name": "stdout"
        }
      ]
    },
    {
      "cell_type": "code",
      "metadata": {
        "colab": {
          "base_uri": "https://localhost:8080/"
        },
        "id": "e5wTN6p2eh6V",
        "outputId": "5d78ff37-72cb-41e9-98b9-c9cce712289a"
      },
      "source": [
        "for row in number_grid:\n",
        "  for col in row:\n",
        "     print(col)"
      ],
      "execution_count": 137,
      "outputs": [
        {
          "output_type": "stream",
          "text": [
            "1\n",
            "2\n",
            "3\n",
            "4\n",
            "5\n",
            "6\n",
            "7\n",
            "8\n",
            "9\n",
            "0\n"
          ],
          "name": "stdout"
        }
      ]
    },
    {
      "cell_type": "markdown",
      "metadata": {
        "id": "ljP8GvNNe9_G"
      },
      "source": [
        "# Build a Translator"
      ]
    },
    {
      "cell_type": "code",
      "metadata": {
        "colab": {
          "base_uri": "https://localhost:8080/"
        },
        "id": "wwJB5V7ie1e1",
        "outputId": "412539e6-ecc1-4834-b946-952a80977729"
      },
      "source": [
        "def translate(phrase):\n",
        "  translation = ''\n",
        "  for letter in phrase:\n",
        "    if letter in 'AEIOUaeiou':\n",
        "      translation = translation + 'g'\n",
        "    else:\n",
        "      translation = translation + letter\n",
        "  return translation\n",
        "\n",
        "print(translate(input('Enter a phrase: ')))"
      ],
      "execution_count": 138,
      "outputs": [
        {
          "output_type": "stream",
          "text": [
            "Enter a phrase: bag\n",
            "bgg\n"
          ],
          "name": "stdout"
        }
      ]
    },
    {
      "cell_type": "code",
      "metadata": {
        "colab": {
          "base_uri": "https://localhost:8080/"
        },
        "id": "DV0p56GBgrI8",
        "outputId": "6c0291ed-cf52-48b0-9540-0d8349ed2fd7"
      },
      "source": [
        "def translate(phrase):\n",
        "  translation = ''\n",
        "  for letter in phrase:\n",
        "    if letter.lower() in 'aeiou':\n",
        "      if letter.isupper():\n",
        "        translation = translation + 'G'\n",
        "      else:\n",
        "        translation = translation + 'g'\n",
        "    else:\n",
        "      translation = translation + letter\n",
        "  return translation\n",
        "\n",
        "print(translate(input('Enter a phrase: ')))"
      ],
      "execution_count": 139,
      "outputs": [
        {
          "output_type": "stream",
          "text": [
            "Enter a phrase: baag\n",
            "bggg\n"
          ],
          "name": "stdout"
        }
      ]
    },
    {
      "cell_type": "markdown",
      "metadata": {
        "id": "-xdaXYoCipRc"
      },
      "source": [
        "#Comments"
      ]
    },
    {
      "cell_type": "code",
      "metadata": {
        "colab": {
          "base_uri": "https://localhost:8080/"
        },
        "id": "efh8OpxciNpC",
        "outputId": "ad6bc59c-7f0c-4063-c345-914314b8412f"
      },
      "source": [
        "print('comments are fun')"
      ],
      "execution_count": 140,
      "outputs": [
        {
          "output_type": "stream",
          "text": [
            "comments are fun\n"
          ],
          "name": "stdout"
        }
      ]
    },
    {
      "cell_type": "code",
      "metadata": {
        "colab": {
          "base_uri": "https://localhost:8080/"
        },
        "id": "J8bs_kP4i5aM",
        "outputId": "c7c6a520-e7b4-4fd2-8497-b007868ccad5"
      },
      "source": [
        "# This program is cool\n",
        "print('comments are fun')"
      ],
      "execution_count": 141,
      "outputs": [
        {
          "output_type": "stream",
          "text": [
            "comments are fun\n"
          ],
          "name": "stdout"
        }
      ]
    },
    {
      "cell_type": "code",
      "metadata": {
        "colab": {
          "base_uri": "https://localhost:8080/",
          "height": 35
        },
        "id": "um8ToReRjKd7",
        "outputId": "5982aaa6-dd67-48b2-cbe3-5b054c9f9e67"
      },
      "source": [
        "'''\n",
        "kjsdlkfjsdlf\n",
        "jsdfjsdfkl\n",
        "sdjfklsfjls\n",
        "'''"
      ],
      "execution_count": 142,
      "outputs": [
        {
          "output_type": "execute_result",
          "data": {
            "application/vnd.google.colaboratory.intrinsic+json": {
              "type": "string"
            },
            "text/plain": [
              "'\\nkjsdlkfjsdlf\\njsdfjsdfkl\\nsdjfklsfjls\\n'"
            ]
          },
          "metadata": {
            "tags": []
          },
          "execution_count": 142
        }
      ]
    },
    {
      "cell_type": "code",
      "metadata": {
        "colab": {
          "base_uri": "https://localhost:8080/"
        },
        "id": "PmXlytuDjax7",
        "outputId": "cfebdd1d-a40f-40b9-ff13-c6b4769c24c7"
      },
      "source": [
        "'''\n",
        "kjsdlkfjsdlf\n",
        "jsdfjsdfkl\n",
        "sdjfklsfjls\n",
        "'''\n",
        "# This program is cool\n",
        "print('comments are fun')"
      ],
      "execution_count": 143,
      "outputs": [
        {
          "output_type": "stream",
          "text": [
            "comments are fun\n"
          ],
          "name": "stdout"
        }
      ]
    },
    {
      "cell_type": "markdown",
      "metadata": {
        "id": "7A3farTdj7dH"
      },
      "source": [
        "#Try Except"
      ]
    },
    {
      "cell_type": "code",
      "metadata": {
        "colab": {
          "base_uri": "https://localhost:8080/"
        },
        "id": "mNl2NQ1njyy2",
        "outputId": "97a0f1ce-e71d-43df-a9dc-f7a6b12d62f9"
      },
      "source": [
        "number = input(input('Enter a number: '))\n",
        "\n",
        "print(number)"
      ],
      "execution_count": 144,
      "outputs": [
        {
          "output_type": "stream",
          "text": [
            "Enter a number: 7\n",
            "77\n",
            "7\n"
          ],
          "name": "stdout"
        }
      ]
    },
    {
      "cell_type": "code",
      "metadata": {
        "colab": {
          "base_uri": "https://localhost:8080/"
        },
        "id": "tDDheR3rk3pl",
        "outputId": "5fdaf31e-62af-4aee-8fd6-234721ad627b"
      },
      "source": [
        "number = input(input('Enter a number: '))\n",
        "\n",
        "print(number)"
      ],
      "execution_count": 145,
      "outputs": [
        {
          "output_type": "stream",
          "text": [
            "Enter a number: 77\n",
            "7777\n",
            "77\n"
          ],
          "name": "stdout"
        }
      ]
    },
    {
      "cell_type": "code",
      "metadata": {
        "colab": {
          "base_uri": "https://localhost:8080/"
        },
        "id": "IbA_KVWPlEwr",
        "outputId": "dadd24c5-6b0d-4d1c-fda0-94af16b3fe30"
      },
      "source": [
        "number = int(input('Enter a number: '))\n",
        "print(number)"
      ],
      "execution_count": 146,
      "outputs": [
        {
          "output_type": "stream",
          "text": [
            "Enter a number: 0\n",
            "0\n"
          ],
          "name": "stdout"
        }
      ]
    },
    {
      "cell_type": "code",
      "metadata": {
        "colab": {
          "base_uri": "https://localhost:8080/"
        },
        "id": "BXKQMFaKlOQp",
        "outputId": "bfa572d6-e1ce-4de1-c72d-968e779fb66d"
      },
      "source": [
        "try:\n",
        "  number = int(input('Enter a number: '))\n",
        "  print(number)\n",
        "except:\n",
        "  print('Invalid input')"
      ],
      "execution_count": 147,
      "outputs": [
        {
          "output_type": "stream",
          "text": [
            "Enter a number: 8\n",
            "8\n"
          ],
          "name": "stdout"
        }
      ]
    },
    {
      "cell_type": "code",
      "metadata": {
        "colab": {
          "base_uri": "https://localhost:8080/"
        },
        "id": "nhw-bgSmmOk1",
        "outputId": "e1dc6414-176e-4b59-d119-d310b08300ef"
      },
      "source": [
        "try:\n",
        "  number = int(input('Enter a number: '))\n",
        "  print(number)\n",
        "except:\n",
        "  print('Invalid input')"
      ],
      "execution_count": 148,
      "outputs": [
        {
          "output_type": "stream",
          "text": [
            "Enter a number: 8\n",
            "8\n"
          ],
          "name": "stdout"
        }
      ]
    },
    {
      "cell_type": "code",
      "metadata": {
        "colab": {
          "base_uri": "https://localhost:8080/"
        },
        "id": "xQ_Gdtf2mR6y",
        "outputId": "6d0dff2e-e2fc-4382-e6b8-1e5b392c6202"
      },
      "source": [
        "\n",
        "try:\n",
        "  number = int(input('Enter a number: '))\n",
        "  print(number)\n",
        "except:\n",
        "  print('Invalid input')"
      ],
      "execution_count": 149,
      "outputs": [
        {
          "output_type": "stream",
          "text": [
            "Enter a number: 9\n",
            "9\n"
          ],
          "name": "stdout"
        }
      ]
    },
    {
      "cell_type": "code",
      "metadata": {
        "colab": {
          "base_uri": "https://localhost:8080/"
        },
        "id": "sjWmVEm5naM9",
        "outputId": "122c64f3-72eb-4904-9260-2976355e2974"
      },
      "source": [
        "try:\n",
        "  value = 10/0\n",
        "  number = int(input('Enter a number: '))\n",
        "  print(number)\n",
        "except:\n",
        "  print('Invalid input')\n"
      ],
      "execution_count": 150,
      "outputs": [
        {
          "output_type": "stream",
          "text": [
            "Invalid input\n"
          ],
          "name": "stdout"
        }
      ]
    },
    {
      "cell_type": "code",
      "metadata": {
        "colab": {
          "base_uri": "https://localhost:8080/"
        },
        "id": "E6SvprmanlHh",
        "outputId": "c9026a25-0491-462b-a884-1b0ca7c88a97"
      },
      "source": [
        "try:\n",
        "  value = 10/0\n",
        "  number = int(input('Enter a number: '))\n",
        "  print(number)\n",
        "except ZeroDivisionError:\n",
        "  print('divided by zero')\n",
        "except ValueError:\n",
        "  print('Invalid input')\n"
      ],
      "execution_count": 151,
      "outputs": [
        {
          "output_type": "stream",
          "text": [
            "divided by zero\n"
          ],
          "name": "stdout"
        }
      ]
    },
    {
      "cell_type": "code",
      "metadata": {
        "colab": {
          "base_uri": "https://localhost:8080/"
        },
        "id": "YKO978P1oJI-",
        "outputId": "01d1045d-b990-4005-ba4c-9284db2d33b2"
      },
      "source": [
        "try:\n",
        "  number = int(input('Enter a number: '))\n",
        "  print(number)\n",
        "except ZeroDivisionError:\n",
        "  print('divided by zero')\n",
        "except ValueError:\n",
        "  print('Invalid input')\n"
      ],
      "execution_count": 152,
      "outputs": [
        {
          "output_type": "stream",
          "text": [
            "Enter a number: 0\n",
            "0\n"
          ],
          "name": "stdout"
        }
      ]
    }
  ]
}