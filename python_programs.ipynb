{
  "nbformat": 4,
  "nbformat_minor": 0,
  "metadata": {
    "colab": {
      "name": "python_programs.ipynb",
      "provenance": []
    },
    "kernelspec": {
      "display_name": "Python 3",
      "name": "python3"
    },
    "language_info": {
      "name": "python"
    }
  },
  "cells": [
    {
      "cell_type": "code",
      "metadata": {
        "colab": {
          "base_uri": "https://localhost:8080/"
        },
        "id": "EfA1g_TF7954",
        "outputId": "9278b1b6-b8ed-4884-d1a4-78ef82076e06"
      },
      "source": [
        "# Finding unique numbers from the list...\n",
        "a = [6, 8, 8, 5, 9, 11]\n",
        "unique = [6, 12, 13, 14]\n",
        "\n",
        "c=0\n",
        "for i in range(len(a)):\n",
        "  for j in range(len(unique)):\n",
        "    if a[i] == unique[j]:\n",
        "      c += 1\n",
        "if c == 0:\n",
        "  print('Unique')\n",
        "else:\n",
        "  print('not unique')\n",
        "   \n"
      ],
      "execution_count": 26,
      "outputs": [
        {
          "output_type": "stream",
          "text": [
            "not unique\n"
          ],
          "name": "stdout"
        }
      ]
    },
    {
      "cell_type": "code",
      "metadata": {
        "colab": {
          "base_uri": "https://localhost:8080/"
        },
        "id": "-nt_yuc58Eh9",
        "outputId": "4f6074c6-295e-4b95-e53b-f68fe0c19ee0"
      },
      "source": [
        "# print even values values in array\n",
        "\n",
        "import numpy as np\n",
        "x = [0, 1, 3, 5, 10, 12,  11]\n",
        "x\n",
        "\n",
        "for i in x:\n",
        "  if i % 2== 0:  \n",
        "    print(i)"
      ],
      "execution_count": 27,
      "outputs": [
        {
          "output_type": "stream",
          "text": [
            "0\n",
            "10\n",
            "12\n"
          ],
          "name": "stdout"
        }
      ]
    },
    {
      "cell_type": "code",
      "metadata": {
        "colab": {
          "base_uri": "https://localhost:8080/"
        },
        "id": "jDOyxAaQ8Wg0",
        "outputId": "a8798a0a-aea9-4d1b-c718-404eaf1a2387"
      },
      "source": [
        "#generating 2D array with single loop\n",
        "import numpy as np\n",
        "from numpy import random\n",
        "a = random.randint(11, 85, size =(3,3))\n",
        "sum =0\n",
        "r,c =a.shape\n",
        "\n",
        "print(a)\n",
        "for i in range(0, r*c):\n",
        "  row = i //c\n",
        "  col = i % c\n",
        "  print(a[row][col])\n",
        " "
      ],
      "execution_count": 28,
      "outputs": [
        {
          "output_type": "stream",
          "text": [
            "[[63 26 31]\n",
            " [69 34 24]\n",
            " [59 60 80]]\n",
            "63\n",
            "26\n",
            "31\n",
            "69\n",
            "34\n",
            "24\n",
            "59\n",
            "60\n",
            "80\n"
          ],
          "name": "stdout"
        }
      ]
    },
    {
      "cell_type": "code",
      "metadata": {
        "colab": {
          "base_uri": "https://localhost:8080/"
        },
        "id": "YuAStFMx8IJO",
        "outputId": "877f1a5a-e522-48c6-e572-69b47f67e9d2"
      },
      "source": [
        "# Generate a 2D random array .\n",
        "# use this code with one loop.\n",
        "# also add sum of upper diagonal elements..\n",
        "\n",
        "import numpy as np\n",
        "from numpy import random\n",
        "random.seed(0)\n",
        "\n",
        "a = random.randint(11, 85, size =(3,3))\n",
        "sum =0\n",
        "r,c =a.shape\n",
        "\n",
        "for i in range(0, r*c):\n",
        "  row = i //c\n",
        "  col = i% c\n",
        "  if row < col: # lower diagonal is a square matrix\n",
        "      sum += a[row,col]\n",
        "\n",
        "print('Random array is :\\n\\n',a,'\\n\\n ...and its upper diagonal sum is \\n',sum)\n",
        "      "
      ],
      "execution_count": 29,
      "outputs": [
        {
          "output_type": "stream",
          "text": [
            "Random array is :\n",
            "\n",
            " [[55 58 75]\n",
            " [78 78 20]\n",
            " [32 47 81]] \n",
            "\n",
            " ...and its upper diagonal sum is \n",
            " 153\n"
          ],
          "name": "stdout"
        }
      ]
    },
    {
      "cell_type": "code",
      "metadata": {
        "colab": {
          "base_uri": "https://localhost:8080/"
        },
        "id": "5oaLME8W8QDU",
        "outputId": "7db3b263-4d19-46d4-b800-664bf372319b"
      },
      "source": [
        "# Generating 3D array\n",
        "\n",
        "import numpy as np\n",
        "from numpy import random\n",
        "x = random.randint(100, size =(6, 3, 5))\n",
        "random.seed(0) # it will generate same random values every time\n",
        "print(x)"
      ],
      "execution_count": 30,
      "outputs": [
        {
          "output_type": "stream",
          "text": [
            "[[[88 88 12 58 65]\n",
            "  [39 87 46 88 81]\n",
            "  [37 25 77 72  9]]\n",
            "\n",
            " [[20 80 69 79 47]\n",
            "  [64 82 99 88 49]\n",
            "  [29 19 19 14 39]]\n",
            "\n",
            " [[32 65  9 57 32]\n",
            "  [31 74 23 35 75]\n",
            "  [55 28 34  0  0]]\n",
            "\n",
            " [[36 53  5 38 17]\n",
            "  [79  4 42 58 31]\n",
            "  [ 1 65 41 57 35]]\n",
            "\n",
            " [[11 46 82 91  0]\n",
            "  [14 99 53 12 42]\n",
            "  [84 75 68  6 68]]\n",
            "\n",
            " [[47  3 76 52 78]\n",
            "  [15 20 99 58 23]\n",
            "  [79 13 85 48 49]]]\n"
          ],
          "name": "stdout"
        }
      ]
    },
    {
      "cell_type": "code",
      "metadata": {
        "colab": {
          "base_uri": "https://localhost:8080/"
        },
        "id": "WVdfiI-a--aE",
        "outputId": "61bec8c0-fd87-498f-8aeb-6da551545783"
      },
      "source": [
        "#calculating sum of 3D Array \n",
        "\n",
        "# random.seed(0) if the same random numbers are required every time.\n",
        "import numpy as np\n",
        "from numpy import random\n",
        "random.seed(0)\n",
        "x = random.randint(100, size =(3, 4, 5))\n",
        "\n",
        "p,r,c = x.shape\n",
        "sum =0\n",
        "for i in range(p):\n",
        "    for j in range(r):\n",
        "      for k in range(c):\n",
        "        sum += x[i,j]\n",
        "    \n",
        "print('x= \\n',x,'\\n sum = \\n',sum)"
      ],
      "execution_count": 31,
      "outputs": [
        {
          "output_type": "stream",
          "text": [
            "x= \n",
            " [[[44 47 64 67 67]\n",
            "  [ 9 83 21 36 87]\n",
            "  [70 88 88 12 58]\n",
            "  [65 39 87 46 88]]\n",
            "\n",
            " [[81 37 25 77 72]\n",
            "  [ 9 20 80 69 79]\n",
            "  [47 64 82 99 88]\n",
            "  [49 29 19 19 14]]\n",
            "\n",
            " [[39 32 65  9 57]\n",
            "  [32 31 74 23 35]\n",
            "  [75 55 28 34  0]\n",
            "  [ 0 36 53  5 38]]] \n",
            " sum = \n",
            " [2600 2805 3430 2480 3415]\n"
          ],
          "name": "stdout"
        }
      ]
    },
    {
      "cell_type": "code",
      "metadata": {
        "colab": {
          "base_uri": "https://localhost:8080/"
        },
        "id": "uHqM31eP9AYl",
        "outputId": "06109d2f-9be4-464d-da7c-19c22669ac9b"
      },
      "source": [
        "#calculating corresponding mean of 3D Array \n",
        "\n",
        "import numpy as np\n",
        "from numpy import random\n",
        "random.seed(0)\n",
        "x = random.randint(100, size =(3, 4, 5))\n",
        "x\n",
        "\n",
        "\n",
        "p,r,c = x.shape\n",
        "mean =random.rand(r, c)\n",
        "#mean =ones(r, c)\n",
        "\n",
        "for i in range(r):\n",
        "    for j in range(c):\n",
        "      sum = 0\n",
        "      for k in range(p):\n",
        "        sum += x[k,i,j]\n",
        "    avg = sum/p\n",
        "    mean[i,j] = avg\n",
        "\n",
        "print('3D array  is: x = \\n\\n',x,'\\n\\n and its corresponding mean is: Mean = \\n\\n',mean)"
      ],
      "execution_count": 32,
      "outputs": [
        {
          "output_type": "stream",
          "text": [
            "3D array  is: x = \n",
            "\n",
            " [[[44 47 64 67 67]\n",
            "  [ 9 83 21 36 87]\n",
            "  [70 88 88 12 58]\n",
            "  [65 39 87 46 88]]\n",
            "\n",
            " [[81 37 25 77 72]\n",
            "  [ 9 20 80 69 79]\n",
            "  [47 64 82 99 88]\n",
            "  [49 29 19 19 14]]\n",
            "\n",
            " [[39 32 65  9 57]\n",
            "  [32 31 74 23 35]\n",
            "  [75 55 28 34  0]\n",
            "  [ 0 36 53  5 38]]] \n",
            "\n",
            " and its corresponding mean is: Mean = \n",
            "\n",
            " [[ 0.22232139  0.38648898  0.90259848  0.44994999 65.33333333]\n",
            " [ 0.90234858  0.09928035  0.96980907  0.65314004 67.        ]\n",
            " [ 0.35815217  0.75068614  0.60783067  0.32504723 48.66666667]\n",
            " [ 0.63427406  0.95894927  0.65279032  0.63505887 46.66666667]]\n"
          ],
          "name": "stdout"
        }
      ]
    },
    {
      "cell_type": "code",
      "metadata": {
        "colab": {
          "base_uri": "https://localhost:8080/"
        },
        "id": "NGzfaU-A9W9t",
        "outputId": "940d1a38-64a4-4beb-8584-3a84bc6c3641"
      },
      "source": [
        "print(np.mean(x,axis=1))\n",
        "print('\\n',np.mean(x,axis=0))"
      ],
      "execution_count": 33,
      "outputs": [
        {
          "output_type": "stream",
          "text": [
            "[[47.   64.25 65.   40.25 75.  ]\n",
            " [46.5  37.5  51.5  66.   63.25]\n",
            " [36.5  38.5  55.   17.75 32.5 ]]\n",
            "\n",
            " [[54.66666667 38.66666667 51.33333333 51.         65.33333333]\n",
            " [16.66666667 44.66666667 58.33333333 42.66666667 67.        ]\n",
            " [64.         69.         66.         48.33333333 48.66666667]\n",
            " [38.         34.66666667 53.         23.33333333 46.66666667]]\n"
          ],
          "name": "stdout"
        }
      ]
    },
    {
      "cell_type": "code",
      "metadata": {
        "colab": {
          "base_uri": "https://localhost:8080/"
        },
        "id": "5TMww7pO-vlV",
        "outputId": "8902a2c5-132a-497c-8084-c541e26348e6"
      },
      "source": [
        "x = [3, 'AA', 60, 90.1, 55, '6l']\n",
        "item = 55\n",
        "flag = 0\n",
        "\n",
        "for i in range(len(x)): # for i in x, if item == i\n",
        "  if item == x[i]:\n",
        "    flag =1\n",
        "    break\n",
        "\n",
        "if flag ==1:\n",
        "  print('Item exit in a list at location  ' + str(i))\n",
        "else:\n",
        "   print('Item does not exit')"
      ],
      "execution_count": 34,
      "outputs": [
        {
          "output_type": "stream",
          "text": [
            "Item exit in a list at location  4\n"
          ],
          "name": "stdout"
        }
      ]
    },
    {
      "cell_type": "code",
      "metadata": {
        "id": "zjtTq3tTYVzX"
      },
      "source": [
        "def function():\n",
        "    x = 10\n",
        "    function()"
      ],
      "execution_count": 35,
      "outputs": []
    },
    {
      "cell_type": "code",
      "metadata": {
        "id": "6xhNl_poYWbM"
      },
      "source": [
        "#recursive funtions in python\n",
        "def countdown(n):\n",
        "  print(n, end = ' ')\n",
        "  if n == 0:\n",
        "    return             # Terminate recursion\n",
        "  else:\n",
        "    countdown(n - 1)   # Recursive call"
      ],
      "execution_count": 36,
      "outputs": []
    },
    {
      "cell_type": "code",
      "metadata": {
        "colab": {
          "base_uri": "https://localhost:8080/"
        },
        "id": "gfLLrvSsYd_U",
        "outputId": "ea5d3292-8edc-42bb-8b2b-a204c8b24a20"
      },
      "source": [
        "countdown(5)"
      ],
      "execution_count": 37,
      "outputs": [
        {
          "output_type": "stream",
          "text": [
            "5 4 3 2 1 0 "
          ],
          "name": "stdout"
        }
      ]
    },
    {
      "cell_type": "code",
      "metadata": {
        "colab": {
          "base_uri": "https://localhost:8080/"
        },
        "id": "-BLpYXjQZ0tb",
        "outputId": "a38b9942-40a9-4c34-f942-c2426794e292"
      },
      "source": [
        "#list comprehension\n",
        "list_a = []\n",
        "for i in range(0, 10):\n",
        "  if i %2 ==0:\n",
        "    list_a.append(i**2)\n",
        "print(list_a, end = ' ')"
      ],
      "execution_count": 38,
      "outputs": [
        {
          "output_type": "stream",
          "text": [
            "[0, 4, 16, 36, 64] "
          ],
          "name": "stdout"
        }
      ]
    },
    {
      "cell_type": "code",
      "metadata": {
        "colab": {
          "base_uri": "https://localhost:8080/"
        },
        "id": "IxZp6RsrfwlN",
        "outputId": "793a3af1-8033-4aff-ecf8-06e0613e16e0"
      },
      "source": [
        "#list comprehension\n",
        "\n",
        "list_b = [i**2 for i in range(0, 10) if i%2 ==0]   #[expression for item in list if conditional]\n",
        "print(list_b, end = ' ')"
      ],
      "execution_count": 39,
      "outputs": [
        {
          "output_type": "stream",
          "text": [
            "[0, 4, 16, 36, 64] "
          ],
          "name": "stdout"
        }
      ]
    },
    {
      "cell_type": "code",
      "metadata": {
        "colab": {
          "base_uri": "https://localhost:8080/"
        },
        "id": "TiMSO9thgLHg",
        "outputId": "a5b03e79-9405-4139-e282-e28ccdf4157e"
      },
      "source": [
        "list_a = [1, 3, 6, 9, 12, 15]\n",
        "list_b = []\n",
        "for number in list_a:\n",
        "    if number % 4 == 0:\n",
        "        list_b.append(number)\n",
        "\n",
        "print(list_b)"
      ],
      "execution_count": 40,
      "outputs": [
        {
          "output_type": "stream",
          "text": [
            "[12]\n"
          ],
          "name": "stdout"
        }
      ]
    },
    {
      "cell_type": "code",
      "metadata": {
        "colab": {
          "base_uri": "https://localhost:8080/"
        },
        "id": "riTySr46htJb",
        "outputId": "e1957220-c6cd-4fa2-9c0a-2f30aca2dd53"
      },
      "source": [
        "list_a = [1, 3, 6, 9, 12, 15]\n",
        "list_b = [number for number in list_a if number % 4 == 0]\n",
        "\n",
        "print(list_b)"
      ],
      "execution_count": 41,
      "outputs": [
        {
          "output_type": "stream",
          "text": [
            "[12]\n"
          ],
          "name": "stdout"
        }
      ]
    },
    {
      "cell_type": "code",
      "metadata": {
        "colab": {
          "base_uri": "https://localhost:8080/"
        },
        "id": "XDazLp5Dh9Ta",
        "outputId": "4c16b471-c3b3-4e4c-8d18-7a2b4001eaae"
      },
      "source": [
        "comp = [i**2 for i in range(5)] #if i//3 == 0]\n",
        "\n",
        "print(comp)"
      ],
      "execution_count": 42,
      "outputs": [
        {
          "output_type": "stream",
          "text": [
            "[0, 1, 4, 9, 16]\n"
          ],
          "name": "stdout"
        }
      ]
    },
    {
      "cell_type": "code",
      "metadata": {
        "colab": {
          "base_uri": "https://localhost:8080/"
        },
        "id": "ApkA-SjEi6Dz",
        "outputId": "4f14a490-b7c3-4ac9-c45a-4c55ffa95ae6"
      },
      "source": [
        "comp = [i**2 for i in range(5) if i %2 == 0]\n",
        "\n",
        "print(comp)"
      ],
      "execution_count": 43,
      "outputs": [
        {
          "output_type": "stream",
          "text": [
            "[0, 4, 16]\n"
          ],
          "name": "stdout"
        }
      ]
    },
    {
      "cell_type": "code",
      "metadata": {
        "colab": {
          "base_uri": "https://localhost:8080/"
        },
        "id": "NxwoIouDjVdC",
        "outputId": "660dedf8-1668-4307-e29e-5af659323b66"
      },
      "source": [
        "# Without using lambdas\n",
        "def starts_with_A(s):\n",
        "    return s[0] == \"A\"\n",
        "\n",
        "fruit = [\"Apple\", \"Banana\", \"Pear\", \"Apricot\", \"Orange\"]\n",
        "map_list = list(map(starts_with_A, fruit))\n",
        "\n",
        "print(map_list)\n",
        "starts_with_A(fruit)"
      ],
      "execution_count": 44,
      "outputs": [
        {
          "output_type": "stream",
          "text": [
            "[True, False, False, True, False]\n"
          ],
          "name": "stdout"
        },
        {
          "output_type": "execute_result",
          "data": {
            "text/plain": [
              "False"
            ]
          },
          "metadata": {
            "tags": []
          },
          "execution_count": 44
        }
      ]
    },
    {
      "cell_type": "code",
      "metadata": {
        "colab": {
          "base_uri": "https://localhost:8080/"
        },
        "id": "abkRZlRD4RPc",
        "outputId": "322cbb14-f3f7-409d-c16a-1b285c6923dd"
      },
      "source": [
        "# Without using lambdas\n",
        "def starts_with_A(s):\n",
        "    return s[0] == \"A\"\n",
        "\n",
        "fruit = [\"Apple\", \"Banana\", \"Pear\", \"Apricot\", \"Orange\"]\n",
        "map_list = list(filter(starts_with_A, fruit))\n",
        "\n",
        "print(map_list)\n",
        "#starts_with_A(fruit)"
      ],
      "execution_count": 45,
      "outputs": [
        {
          "output_type": "stream",
          "text": [
            "['Apple', 'Apricot']\n"
          ],
          "name": "stdout"
        }
      ]
    },
    {
      "cell_type": "code",
      "metadata": {
        "colab": {
          "base_uri": "https://localhost:8080/"
        },
        "id": "eaI0aSBdnAES",
        "outputId": "cd799fa3-4e53-40a2-b81f-b5c2b8dafcfe"
      },
      "source": [
        "fruit = [\"Apple\", \"Banana\", \"Pear\", \"Apricot\", \"Orange\"]\n",
        "map_object = map(lambda s: s[0] == \"A\", fruit)\n",
        "\n",
        "print(list(map_object))"
      ],
      "execution_count": 46,
      "outputs": [
        {
          "output_type": "stream",
          "text": [
            "[True, False, False, True, False]\n"
          ],
          "name": "stdout"
        }
      ]
    },
    {
      "cell_type": "code",
      "metadata": {
        "id": "jnsbRMSenFxo"
      },
      "source": [
        "for i in map_object:\n",
        "  print(list(i))"
      ],
      "execution_count": 47,
      "outputs": []
    },
    {
      "cell_type": "code",
      "metadata": {
        "id": "IUtK9BvBpmka"
      },
      "source": [
        "for value in map_object:\n",
        "    print(value)"
      ],
      "execution_count": 48,
      "outputs": []
    },
    {
      "cell_type": "code",
      "metadata": {
        "colab": {
          "base_uri": "https://localhost:8080/"
        },
        "id": "PJSyt4Gxqoix",
        "outputId": "bb87aba2-ed60-4a67-a157-6e3bde5e717e"
      },
      "source": [
        "def squares(j):\n",
        "  print(j**2)\n",
        "squares(j)"
      ],
      "execution_count": 51,
      "outputs": [
        {
          "output_type": "stream",
          "text": [
            "0\n"
          ],
          "name": "stdout"
        }
      ]
    },
    {
      "cell_type": "code",
      "metadata": {
        "colab": {
          "base_uri": "https://localhost:8080/"
        },
        "id": "qBi1su8isbxE",
        "outputId": "a559e795-adce-4012-8efc-7b135443e2ba"
      },
      "source": [
        "print(print(j))"
      ],
      "execution_count": 52,
      "outputs": [
        {
          "output_type": "stream",
          "text": [
            "0\n",
            "None\n"
          ],
          "name": "stdout"
        }
      ]
    },
    {
      "cell_type": "code",
      "metadata": {
        "colab": {
          "base_uri": "https://localhost:8080/"
        },
        "id": "wLszJ0TstI6v",
        "outputId": "c4440ea0-a538-4645-b0be-e31361652cbc"
      },
      "source": [
        "y =lambda x: x**2\n",
        "x = [0, 2, 3, 5, 6]\n",
        "y(3)"
      ],
      "execution_count": 53,
      "outputs": [
        {
          "output_type": "execute_result",
          "data": {
            "text/plain": [
              "9"
            ]
          },
          "metadata": {
            "tags": []
          },
          "execution_count": 53
        }
      ]
    },
    {
      "cell_type": "code",
      "metadata": {
        "colab": {
          "base_uri": "https://localhost:8080/"
        },
        "id": "QqBKRJAC47C-",
        "outputId": "f46effc1-a821-40d4-fe76-cb5841d71067"
      },
      "source": [
        "z=[1, 2, 3, 0,0.9]\n",
        "fil_map = list(map(lambda x: x==2 or x==3, z))\n",
        "fil = list(filter(lambda x: x==2 or x==3 ,z))\n",
        "\n",
        "print(fil_map,'\\n', fil)\n",
        "print()"
      ],
      "execution_count": 54,
      "outputs": [
        {
          "output_type": "stream",
          "text": [
            "[False, True, True, False, False] \n",
            " [2, 3]\n",
            "\n"
          ],
          "name": "stdout"
        }
      ]
    },
    {
      "cell_type": "code",
      "metadata": {
        "colab": {
          "base_uri": "https://localhost:8080/"
        },
        "id": "PYgM3CTg5QWe",
        "outputId": "2fc11540-ea45-4a0d-b33e-5d9748bd9674"
      },
      "source": [
        "# function that filters vowels\n",
        "def fun(variable):\n",
        "    letters = ['a', 'e', 'i', 'o', 'u']\n",
        "    if (variable in letters):\n",
        "        return True\n",
        "    else:\n",
        "        return False\n",
        "    \n",
        "# sequence\n",
        "sequence = ['g', 'e', 'e', 'j', 'k', 's', 'p', 'r']\n",
        "  \n",
        "# using filter function\n",
        "filtered = filter(fun, sequence)\n",
        "\n",
        "print(list(filtered))\n",
        "  \n",
        "#print('The filtered letters are:')\n",
        "#for s in filtered:\n",
        "#    print(s)"
      ],
      "execution_count": 56,
      "outputs": [
        {
          "output_type": "stream",
          "text": [
            "['e', 'e']\n"
          ],
          "name": "stdout"
        }
      ]
    },
    {
      "cell_type": "code",
      "metadata": {
        "colab": {
          "base_uri": "https://localhost:8080/"
        },
        "id": "qhinoi_29m_q",
        "outputId": "cbfbbb31-3260-4a54-8d11-bddb52ee8a21"
      },
      "source": [
        "s = ['g', 'e', 'e', 'j', 'k', 's', 'p', 'r']\n",
        "filtering = list(filter(lambda l:l==['a', 'e', 'i', 'o', 'u'],s))\n",
        "\n",
        "print(filtering)"
      ],
      "execution_count": 57,
      "outputs": [
        {
          "output_type": "stream",
          "text": [
            "[]\n"
          ],
          "name": "stdout"
        }
      ]
    },
    {
      "cell_type": "code",
      "metadata": {
        "colab": {
          "base_uri": "https://localhost:8080/"
        },
        "id": "j40HO59q-K8p",
        "outputId": "3ea213af-bf09-4e5a-d80f-2bf88b4880ea"
      },
      "source": [
        "# function that filters vowels\n",
        "def fun(variable):\n",
        "    letters = ['a', 'e', 'i', 'o', 'u']\n",
        "    if (variable in letters):\n",
        "        return True\n",
        "    else:\n",
        "        return False\n",
        "    \n",
        "# sequence\n",
        "sequence = ['g', 'e', 'e', 'j', 'k', 's', 'p', 'r']\n",
        "\n",
        "fun(sequence) \n",
        "# using filter function\n",
        "#filtered = filter(fun, sequence)\n",
        "\n",
        "#print(list(filtered))\n",
        "  \n",
        "#print('The filtered letters are:')\n",
        "#for s in filtered:\n",
        "#    print(s)"
      ],
      "execution_count": 58,
      "outputs": [
        {
          "output_type": "execute_result",
          "data": {
            "text/plain": [
              "False"
            ]
          },
          "metadata": {
            "tags": []
          },
          "execution_count": 58
        }
      ]
    },
    {
      "cell_type": "code",
      "metadata": {
        "colab": {
          "base_uri": "https://localhost:8080/"
        },
        "id": "AWoFf-Dz_g7J",
        "outputId": "a4d171b1-79cb-49d6-aa6d-3944013f6ef5"
      },
      "source": [
        "# a list contains both even and odd numbers. \n",
        "seq = [0, 1, 2, 3, 5, 8, 13]\n",
        "  \n",
        "# result contains odd numbers of the list\n",
        "result = filter(lambda x: x % 2 != 0, seq)\n",
        "print(list(result))\n",
        "  \n",
        "# result contains even numbers of the list\n",
        "result = filter(lambda x: x % 2 == 0, seq)\n",
        "print(list(result))"
      ],
      "execution_count": 59,
      "outputs": [
        {
          "output_type": "stream",
          "text": [
            "[1, 3, 5, 13]\n",
            "[0, 2, 8]\n"
          ],
          "name": "stdout"
        }
      ]
    },
    {
      "cell_type": "code",
      "metadata": {
        "colab": {
          "base_uri": "https://localhost:8080/"
        },
        "id": "aSnWnn6LAWI5",
        "outputId": "6326aed7-ced8-4d9f-d08a-47ef057945bb"
      },
      "source": [
        "import functools\n",
        "\n",
        "def mult(x,y):\n",
        "    #print(\"x=\",x,\" y=\",y)\n",
        "    return x*y\n",
        "\n",
        "fact=functools.reduce(mult, range(1, 2))\n",
        "print ('Factorial of 3: ', fact)\n"
      ],
      "execution_count": 60,
      "outputs": [
        {
          "output_type": "stream",
          "text": [
            "Factorial of 3:  1\n"
          ],
          "name": "stdout"
        }
      ]
    },
    {
      "cell_type": "code",
      "metadata": {
        "colab": {
          "base_uri": "https://localhost:8080/"
        },
        "id": "bX7PEQOVE_g_",
        "outputId": "119c1977-5dab-4a38-801d-d6dd56341d42"
      },
      "source": [
        "from functools import reduce\n",
        "# Returns the sum of all the elements using `reduce`\n",
        "result = reduce((lambda a, b: a + b), [1, 2, 3, 4])\n",
        "print(result)"
      ],
      "execution_count": 61,
      "outputs": [
        {
          "output_type": "stream",
          "text": [
            "10\n"
          ],
          "name": "stdout"
        }
      ]
    },
    {
      "cell_type": "code",
      "metadata": {
        "colab": {
          "base_uri": "https://localhost:8080/"
        },
        "id": "JCOz-JtvHoGS",
        "outputId": "33210637-08f8-4ece-898c-79397cf28842"
      },
      "source": [
        "from functools import reduce\n",
        "# Returns the sum of two elements\n",
        "def sumTwo(a,b):\n",
        "    return a+b\n",
        "random.seed(0)\n",
        "\n",
        "a = [random.randint(0,100) for i in range(100)]\n",
        "result = functools.reduce(sumTwo, a)\n",
        "print(result)"
      ],
      "execution_count": 62,
      "outputs": [
        {
          "output_type": "stream",
          "text": [
            "4823\n"
          ],
          "name": "stdout"
        }
      ]
    },
    {
      "cell_type": "code",
      "metadata": {
        "colab": {
          "base_uri": "https://localhost:8080/"
        },
        "id": "gNTN8L4rHzr5",
        "outputId": "88bcb16f-be82-4059-cd48-32a2da6bf4cb"
      },
      "source": [
        "import random\n",
        "a=[]\n",
        "for i in range(0,10):\n",
        "  #a = random.randint(0,100)\n",
        "  a.append(random.randint(0,100))\n",
        "print(a)"
      ],
      "execution_count": 63,
      "outputs": [
        {
          "output_type": "stream",
          "text": [
            "[5, 35, 71, 87, 77, 11, 84, 72, 90, 54]\n"
          ],
          "name": "stdout"
        }
      ]
    },
    {
      "cell_type": "code",
      "metadata": {
        "colab": {
          "base_uri": "https://localhost:8080/"
        },
        "id": "NIIDJVdUKe9p",
        "outputId": "2dabd5e0-eea7-4ab7-c07b-b2595a061255"
      },
      "source": [
        "a =[random.randint(0,100) for i in range(10)]\n",
        "print(a)"
      ],
      "execution_count": 64,
      "outputs": [
        {
          "output_type": "stream",
          "text": [
            "[58, 25, 23, 72, 92, 84, 35, 27, 0, 23]\n"
          ],
          "name": "stdout"
        }
      ]
    },
    {
      "cell_type": "code",
      "metadata": {
        "colab": {
          "base_uri": "https://localhost:8080/"
        },
        "id": "CDCOFPepO0ml",
        "outputId": "6e23d374-2ba0-4534-8ea3-bc54782af570"
      },
      "source": [
        "def get_alphabets(character):\n",
        "    alphabets = [chr(i) for i in range(97, 123) if i!= character]\n",
        "    return tuple(alphabets)\n",
        "get_alphabets(99)"
      ],
      "execution_count": 65,
      "outputs": [
        {
          "output_type": "execute_result",
          "data": {
            "text/plain": [
              "('a',\n",
              " 'b',\n",
              " 'd',\n",
              " 'e',\n",
              " 'f',\n",
              " 'g',\n",
              " 'h',\n",
              " 'i',\n",
              " 'j',\n",
              " 'k',\n",
              " 'l',\n",
              " 'm',\n",
              " 'n',\n",
              " 'o',\n",
              " 'p',\n",
              " 'q',\n",
              " 'r',\n",
              " 's',\n",
              " 't',\n",
              " 'u',\n",
              " 'v',\n",
              " 'w',\n",
              " 'x',\n",
              " 'y',\n",
              " 'z')"
            ]
          },
          "metadata": {
            "tags": []
          },
          "execution_count": 65
        }
      ]
    },
    {
      "cell_type": "code",
      "metadata": {
        "colab": {
          "base_uri": "https://localhost:8080/"
        },
        "id": "mqupI9xaPefH",
        "outputId": "ccd83591-14c3-4c9f-9903-c040ab942553"
      },
      "source": [
        "NumStd = int(input('How many student you record: '))\n",
        "stdlst =[]\n",
        "\n",
        "def func(user):\n",
        "  if user[1] >= 25:\n",
        "    return [user[0] + ' above 25', user[1]]\n",
        "  else:\n",
        "    return [user[0] + ' under 25', user[1]]\n",
        "\n",
        "for i in range(NumStd):\n",
        "  std =input('Enter Student Name: ')\n",
        "  age =int(input('Enter age: '))\n",
        "  stdlst.append([std, age])\n",
        "\n",
        "res =map(func,stdlst)\n",
        "print(stdlst)\n",
        "print(list(res))"
      ],
      "execution_count": 69,
      "outputs": [
        {
          "output_type": "stream",
          "text": [
            "How many student you record: 2\n",
            "Enter Student Name: Rafay\n",
            "Enter age: 22\n",
            "Enter Student Name: Bensu\n",
            "Enter age: 23\n",
            "[['Rafay', 22], ['Bensu', 23]]\n",
            "[['Rafay under 25', 22], ['Bensu under 25', 23]]\n"
          ],
          "name": "stdout"
        }
      ]
    },
    {
      "cell_type": "code",
      "metadata": {
        "colab": {
          "base_uri": "https://localhost:8080/"
        },
        "id": "6yJ_dOWIXguT",
        "outputId": "50070b68-658f-4fc8-fa06-4463b3a050ef"
      },
      "source": [
        "stdlst"
      ],
      "execution_count": 70,
      "outputs": [
        {
          "output_type": "execute_result",
          "data": {
            "text/plain": [
              "[['Rafay', 22], ['Bensu', 23]]"
            ]
          },
          "metadata": {
            "tags": []
          },
          "execution_count": 70
        }
      ]
    }
  ]
}